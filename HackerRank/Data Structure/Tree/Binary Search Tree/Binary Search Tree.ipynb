{
 "cells": [
  {
   "cell_type": "code",
   "execution_count": 2,
   "metadata": {},
   "outputs": [
    {
     "name": "stdin",
     "output_type": "stream",
     "text": [
      " 6\n",
      " 20 15 24 26 4 16\n"
     ]
    },
    {
     "name": "stdout",
     "output_type": "stream",
     "text": [
      "4 15 16 20 24 26 "
     ]
    }
   ],
   "source": [
    "class Node:\n",
    "    def __init__(self,key):\n",
    "        self.right=None\n",
    "        self.left=None\n",
    "        self.val=key\n",
    "\n",
    "def insert(root,node):\n",
    "    if root is None:\n",
    "        root=node\n",
    "    else:\n",
    "        if root.val<node.val:\n",
    "            if root.right is None:\n",
    "                root.right=node\n",
    "            else:\n",
    "                insert(root.right,node)\n",
    "        else:\n",
    "            if root.left is None:\n",
    "                root.left=node\n",
    "            else:\n",
    "                insert(root.left,node)\n",
    "\n",
    "def inorder(root):\n",
    "    if root:\n",
    "        inorder(root.left)\n",
    "        print(root.val,end=' ')\n",
    "        inorder(root.right)\n",
    "\n",
    "n=int(input())\n",
    "a=list(map(int,input().split()))\n",
    "for i in range(n):\n",
    "    if i==0:\n",
    "        r=Node(a[i])\n",
    "    else:\n",
    "        insert(r,Node(a[i]))\n",
    "inorder(r)"
   ]
  },
  {
   "cell_type": "code",
   "execution_count": 2,
   "metadata": {},
   "outputs": [],
   "source": [
    "# maxHeight of Binary Search Tree\n",
    "def getHeight(root):\n",
    "    if root:\n",
    "        leftDepth = getHeight(root.left)\n",
    "        rightDepth = getHeight(root.right)\n",
    "        return max(leftDepth,rightDepth) + 1\n",
    "    else:\n",
    "        return -1"
   ]
  },
  {
   "cell_type": "code",
   "execution_count": 3,
   "metadata": {},
   "outputs": [
    {
     "data": {
      "text/plain": [
       "2"
      ]
     },
     "execution_count": 3,
     "metadata": {},
     "output_type": "execute_result"
    }
   ],
   "source": [
    "getHeight(r)"
   ]
  },
  {
   "cell_type": "code",
   "execution_count": 26,
   "metadata": {},
   "outputs": [
    {
     "name": "stdin",
     "output_type": "stream",
     "text": [
      "Enter data of Nodes:  5 3 8 2 4 6 7\n"
     ]
    },
    {
     "name": "stdout",
     "output_type": "stream",
     "text": [
      "5 3 2 4 8 6 7 "
     ]
    }
   ],
   "source": [
    "# %load 'Insertion_2(function in class)'.py\n",
    "# https://www.hackerrank.com/challenges/binary-search-tree-insertion/problem?h_r=next-challenge&h_v=zen\n",
    "class Node:\n",
    "    def __init__(self, info):\n",
    "        self.data = info  \n",
    "        self.left = None  \n",
    "        self.right = None \n",
    "def preOrder(root):\n",
    "    if root == None:\n",
    "        return\n",
    "    print (root.data, end=\" \")\n",
    "    preOrder(root.left)\n",
    "    preOrder(root.right)\n",
    "class BinarySearchTree:\n",
    "    def __init__(self): \n",
    "        self.root = None\n",
    "    def add_data(self,data):\n",
    "        if self.root is None:\n",
    "            self.root=Node(data)\n",
    "        else:\n",
    "            head=self.root\n",
    "            while head:\n",
    "                if head.data<data:\n",
    "                    if head.right is None:\n",
    "                        head.right=Node(data)\n",
    "                        break\n",
    "                    else:\n",
    "                        head=head.right\n",
    "                else:\n",
    "                    if head.left is None:\n",
    "                        head.left=Node(data)\n",
    "                        break\n",
    "                    else:\n",
    "                        head=head.left\n",
    "b=BinarySearchTree()\n",
    "a=map(int,input('Enter data of Nodes: ').split())\n",
    "for i in a:\n",
    "    b.add_data(i)\n",
    "preOrder(b.root)"
   ]
  },
  {
   "cell_type": "markdown",
   "metadata": {},
   "source": [
    "### [Binary Search Tree : Lowest Common Ancestor](https://www.hackerrank.com/challenges/binary-search-tree-lowest-common-ancestor/problem)"
   ]
  },
  {
   "cell_type": "code",
   "execution_count": 27,
   "metadata": {},
   "outputs": [
    {
     "name": "stdout",
     "output_type": "stream",
     "text": [
      "5 3 2 4 8 6 7 "
     ]
    }
   ],
   "source": [
    "preOrder(b.root)"
   ]
  },
  {
   "cell_type": "code",
   "execution_count": 33,
   "metadata": {},
   "outputs": [],
   "source": [
    "# %load Lowest\\ Common\\ Ancestor.py\n",
    "# https://www.hackerrank.com/challenges/binary-search-tree-lowest-common-ancestor/problem\n",
    "def lca(root, v1, v2):\n",
    "    if (root.data<v1 and root.data<v2):\n",
    "        return lca(root.right,v1,v2)\n",
    "    elif (root.data>v1 and root.data>v2):\n",
    "        return lca(root.left,v1,v2)\n",
    "    else:\n",
    "        return root"
   ]
  },
  {
   "cell_type": "code",
   "execution_count": 34,
   "metadata": {},
   "outputs": [
    {
     "data": {
      "text/plain": [
       "3"
      ]
     },
     "execution_count": 34,
     "metadata": {},
     "output_type": "execute_result"
    }
   ],
   "source": [
    "lca(b.root,2,4).data"
   ]
  },
  {
   "cell_type": "code",
   "execution_count": 35,
   "metadata": {},
   "outputs": [
    {
     "data": {
      "text/plain": [
       "5"
      ]
     },
     "execution_count": 35,
     "metadata": {},
     "output_type": "execute_result"
    }
   ],
   "source": [
    "lca(b.root,2,6).data"
   ]
  },
  {
   "cell_type": "code",
   "execution_count": null,
   "metadata": {},
   "outputs": [],
   "source": []
  }
 ],
 "metadata": {
  "kernelspec": {
   "display_name": "Python 3",
   "language": "python",
   "name": "python3"
  },
  "language_info": {
   "codemirror_mode": {
    "name": "ipython",
    "version": 3
   },
   "file_extension": ".py",
   "mimetype": "text/x-python",
   "name": "python",
   "nbconvert_exporter": "python",
   "pygments_lexer": "ipython3",
   "version": "3.8.5"
  }
 },
 "nbformat": 4,
 "nbformat_minor": 4
}
