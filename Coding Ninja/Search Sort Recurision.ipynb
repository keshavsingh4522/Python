{
 "cells": [
  {
   "cell_type": "markdown",
   "metadata": {},
   "source": [
    "## Finding unique"
   ]
  },
  {
   "cell_type": "code",
   "execution_count": 48,
   "metadata": {},
   "outputs": [
    {
     "name": "stdout",
     "output_type": "stream",
     "text": [
      "[1, 4, 5]\n"
     ]
    }
   ],
   "source": [
    "li = [1,2,2,3,4,5,3] \n",
    "li2 = []\n",
    "for i in li:\n",
    "    count = 0\n",
    "    for x in li:\n",
    "        if i == x:\n",
    "            count +=1\n",
    "    if count ==1:\n",
    "        li2.append(i)\n",
    "print(li2)"
   ]
  },
  {
   "cell_type": "markdown",
   "metadata": {},
   "source": [
    "## Finding Duplicates"
   ]
  },
  {
   "cell_type": "code",
   "execution_count": 56,
   "metadata": {},
   "outputs": [],
   "source": [
    "li = [1,2,2,3,4,5,3] \n",
    "li2 = []\n",
    "for i in li:\n",
    "    count = 0\n",
    "    for x in li:\n",
    "        if i == x:\n",
    "            count +=1\n",
    "    if count !=1:\n",
    "        li2.append(i)\n",
    "        re\n",
    "[x for x in li2 if x not in li2]"
   ]
  },
  {
   "cell_type": "markdown",
   "metadata": {},
   "source": [
    "## Finding Intersection"
   ]
  },
  {
   "cell_type": "code",
   "execution_count": 25,
   "metadata": {},
   "outputs": [
    {
     "data": {
      "text/plain": [
       "[None, None]"
      ]
     },
     "execution_count": 25,
     "metadata": {},
     "output_type": "execute_result"
    }
   ],
   "source": [
    "ar1 = [1,2,3,4]\n",
    "ar2 = [2,3,3,2]\n",
    "li = []\n",
    "for i in ar1:\n",
    "    for j in ar2:\n",
    "        if i == j:\n",
    "            li.append(i)\n",
    "li2 = []\n",
    "[li2.append(x) for x in li if x not in li2]"
   ]
  },
  {
   "cell_type": "code",
   "execution_count": 26,
   "metadata": {},
   "outputs": [
    {
     "name": "stdout",
     "output_type": "stream",
     "text": [
      "[2, 2, 3, 3]\n",
      "[2, 3]\n"
     ]
    }
   ],
   "source": [
    "print(li)\n",
    "print(li2)"
   ]
  },
  {
   "cell_type": "markdown",
   "metadata": {},
   "source": [
    "### Find sum"
   ]
  },
  {
   "cell_type": "code",
   "execution_count": 30,
   "metadata": {},
   "outputs": [
    {
     "name": "stdout",
     "output_type": "stream",
     "text": [
      "7\n"
     ]
    }
   ],
   "source": [
    "arr = [1,3,6,2,5,4,3,2,4]\n",
    "x = 7\n",
    "count = 0\n",
    "for i in range(len(arr)):\n",
    "    for j in range(i+1,len(arr)):\n",
    "        if arr[i] + arr[j] == x:\n",
    "            count +=1\n",
    "print(count)"
   ]
  },
  {
   "cell_type": "markdown",
   "metadata": {},
   "source": [
    "### Find triplets"
   ]
  },
  {
   "cell_type": "code",
   "execution_count": 35,
   "metadata": {},
   "outputs": [
    {
     "name": "stdout",
     "output_type": "stream",
     "text": [
      "0\n"
     ]
    }
   ],
   "source": [
    "arr = [1 ,2 ,3 ,4 ,5 ,6, 7 ]\n",
    "x = 19\n",
    "count = 0\n",
    "for i in range(len(arr)):\n",
    "    for j in range(i+1,len(arr)):\n",
    "        for k in range(j+1,len(arr)):\n",
    "            if arr[i] + arr[j] + arr[k] == x:\n",
    "                count +=1\n",
    "print(count)"
   ]
  },
  {
   "cell_type": "markdown",
   "metadata": {},
   "source": [
    "### Sort 0 and 1"
   ]
  },
  {
   "cell_type": "code",
   "execution_count": 60,
   "metadata": {},
   "outputs": [
    {
     "name": "stdout",
     "output_type": "stream",
     "text": [
      "3\n"
     ]
    }
   ],
   "source": [
    "arr = [0 ,1 ,1 ,0 ,1 ,0 ,1]\n",
    "count0 = 0\n",
    "for i in arr:\n",
    "    if i == 0:\n",
    "        count0 +=1\n",
    "print(count0)"
   ]
  },
  {
   "cell_type": "code",
   "execution_count": 62,
   "metadata": {},
   "outputs": [
    {
     "name": "stdout",
     "output_type": "stream",
     "text": [
      "[0, 0, 0, 1, 1, 1, 1]\n"
     ]
    }
   ],
   "source": [
    "for i in range(0,count0):\n",
    "    arr[i] = 0\n",
    "for i in range(count0,len(arr)):\n",
    "    arr[i] = 1\n",
    "print(arr)"
   ]
  },
  {
   "cell_type": "markdown",
   "metadata": {},
   "source": [
    "# Binary Search "
   ]
  },
  {
   "cell_type": "code",
   "execution_count": 93,
   "metadata": {},
   "outputs": [],
   "source": [
    "arr = [1,2,3,4,5,6,7,8,9,10]\n",
    "n = 3\n",
    "def search(start,end):\n",
    "    while start<=end:\n",
    "        mid = (start+end)//2\n",
    "        if arr[mid] == n:\n",
    "            return mid\n",
    "        elif arr[mid] > n:\n",
    "            end = mid -1\n",
    "            search(start,end)\n",
    "        elif arr[mid] < n:\n",
    "            start = mid+1\n",
    "            search(start,end)\n",
    "    return -1"
   ]
  },
  {
   "cell_type": "code",
   "execution_count": 94,
   "metadata": {},
   "outputs": [],
   "source": [
    "index = search(0,len(arr)-1)"
   ]
  },
  {
   "cell_type": "code",
   "execution_count": 95,
   "metadata": {},
   "outputs": [
    {
     "name": "stdout",
     "output_type": "stream",
     "text": [
      "2\n"
     ]
    }
   ],
   "source": [
    "print(index)"
   ]
  },
  {
   "cell_type": "markdown",
   "metadata": {},
   "source": [
    "# Selection Sort "
   ]
  },
  {
   "cell_type": "code",
   "execution_count": 117,
   "metadata": {},
   "outputs": [],
   "source": [
    "arr = [5,4,2,6,1]\n",
    "for i in range(len(arr)-1):\n",
    "    min_index = i\n",
    "    for j in range(i+1,len(arr)):\n",
    "        if arr[j]<arr[min_index]:\n",
    "            min_index = j\n",
    "    arr[i],arr[min_index] = arr[min_index],arr[i]"
   ]
  },
  {
   "cell_type": "code",
   "execution_count": 118,
   "metadata": {},
   "outputs": [
    {
     "name": "stdout",
     "output_type": "stream",
     "text": [
      "[1, 2, 4, 5, 6]\n"
     ]
    }
   ],
   "source": [
    "print(arr)"
   ]
  },
  {
   "cell_type": "markdown",
   "metadata": {},
   "source": [
    "# Bubble Sort "
   ]
  },
  {
   "cell_type": "code",
   "execution_count": 8,
   "metadata": {},
   "outputs": [],
   "source": [
    "arr = [ 5,4,2,1,3]\n",
    "for j in range(len(arr)-1):\n",
    "    for i in range(len(arr)-j-1):\n",
    "        if arr[i]>arr[i+1]:\n",
    "            arr[i],arr[i+1] = arr[i+1],arr[i]"
   ]
  },
  {
   "cell_type": "code",
   "execution_count": 9,
   "metadata": {},
   "outputs": [
    {
     "name": "stdout",
     "output_type": "stream",
     "text": [
      "[1, 2, 3, 4, 5]\n"
     ]
    }
   ],
   "source": [
    "print(arr)"
   ]
  },
  {
   "cell_type": "markdown",
   "metadata": {},
   "source": [
    "# Insertion Sort "
   ]
  },
  {
   "cell_type": "code",
   "execution_count": 67,
   "metadata": {},
   "outputs": [],
   "source": [
    "arr = [ 5,4,2,1,3]\n",
    "for i in range(1,len(arr)):\n",
    "    temp = arr[i]\n",
    "    j = i-1\n",
    "    while(j>=0 and arr[j] > temp):\n",
    "        arr[j+1] = arr[j]\n",
    "        j -= 1\n",
    "    arr[j+1] = temp"
   ]
  },
  {
   "cell_type": "code",
   "execution_count": 68,
   "metadata": {},
   "outputs": [
    {
     "name": "stdout",
     "output_type": "stream",
     "text": [
      "[1, 2, 3, 4, 5]\n"
     ]
    }
   ],
   "source": [
    "print(arr)"
   ]
  },
  {
   "cell_type": "markdown",
   "metadata": {},
   "source": [
    "# Merge 2 arrays "
   ]
  },
  {
   "cell_type": "code",
   "execution_count": 25,
   "metadata": {},
   "outputs": [],
   "source": [
    "arr1 = [1,3,5,7,11]\n",
    "arr2 = [2,4,8,10]\n",
    "arr3 = []\n",
    "i =0\n",
    "j=0\n",
    "while i<len(arr1) and j<len(arr2):\n",
    "   if arr1[i]<arr2[j]:\n",
    "    arr3.append(arr1[i])\n",
    "    i +=1\n",
    "   else:\n",
    "    arr3.append(arr2[j])\n",
    "    j +=1\n",
    "    \n",
    "while i<len(arr1):\n",
    "    arr3.append(arr1[i])\n",
    "    i+=1\n",
    "while j<len(arr2):\n",
    "    arr3.append(arr2[j])\n",
    "    j +=1"
   ]
  },
  {
   "cell_type": "code",
   "execution_count": 26,
   "metadata": {},
   "outputs": [
    {
     "data": {
      "text/plain": [
       "[1, 2, 3, 4, 5, 7, 8, 10, 11]"
      ]
     },
     "execution_count": 26,
     "metadata": {},
     "output_type": "execute_result"
    }
   ],
   "source": [
    "arr3"
   ]
  },
  {
   "cell_type": "markdown",
   "metadata": {},
   "source": [
    "## Push 0 to the end "
   ]
  },
  {
   "cell_type": "code",
   "execution_count": 32,
   "metadata": {},
   "outputs": [],
   "source": [
    "arr = [9 ,0 ,0 ,8 ,2]\n",
    "arr2= []\n",
    "len1 = len(arr)\n",
    "counter = 0\n",
    "for i in arr:\n",
    "    if i != 0:\n",
    "        arr2.append(i)\n",
    "    else:\n",
    "        counter +=1\n",
    "for i in range(counter):\n",
    "    arr2.append(0)"
   ]
  },
  {
   "cell_type": "code",
   "execution_count": 33,
   "metadata": {},
   "outputs": [
    {
     "data": {
      "text/plain": [
       "[9, 8, 2, 0, 0]"
      ]
     },
     "execution_count": 33,
     "metadata": {},
     "output_type": "execute_result"
    }
   ],
   "source": [
    "arr2"
   ]
  },
  {
   "cell_type": "markdown",
   "metadata": {},
   "source": [
    "## Rotate array "
   ]
  },
  {
   "cell_type": "code",
   "execution_count": 42,
   "metadata": {},
   "outputs": [],
   "source": [
    "arr = [1 ,2 ,3 ,4, 5 ,6 ,7]\n",
    "arr2 = []\n",
    "rotate = 2\n",
    "for i in range(rotate,len(arr)):\n",
    "    arr2.append(arr[i])\n",
    "for i in range(rotate):\n",
    "    arr2.append(arr[i])"
   ]
  },
  {
   "cell_type": "code",
   "execution_count": 43,
   "metadata": {},
   "outputs": [
    {
     "data": {
      "text/plain": [
       "[3, 4, 5, 6, 7, 1, 2]"
      ]
     },
     "execution_count": 43,
     "metadata": {},
     "output_type": "execute_result"
    }
   ],
   "source": [
    "arr2"
   ]
  },
  {
   "cell_type": "markdown",
   "metadata": {},
   "source": [
    "## Second largest in array "
   ]
  },
  {
   "cell_type": "code",
   "execution_count": 56,
   "metadata": {},
   "outputs": [
    {
     "name": "stdout",
     "output_type": "stream",
     "text": [
      "6\n"
     ]
    }
   ],
   "source": [
    "arr = [9 ,3 ,6 ,2 ,9]\n",
    "arr2 = []\n",
    "for i in range(len(arr)-1):\n",
    "    for j in range(len(arr)-i-1):\n",
    "        if arr[j]>arr[j+1]:\n",
    "            arr[j],arr[j+1] = arr[j+1],arr[j]\n",
    "[arr2.append(x) for x in arr if x not in arr2]\n",
    "print(arr2[-2])"
   ]
  },
  {
   "cell_type": "markdown",
   "metadata": {},
   "source": [
    "## Check Array Rotation "
   ]
  },
  {
   "cell_type": "code",
   "execution_count": 64,
   "metadata": {},
   "outputs": [
    {
     "name": "stdout",
     "output_type": "stream",
     "text": [
      "3\n"
     ]
    }
   ],
   "source": [
    "arr = [10, 20, 30 ,1]\n",
    "flag = 0\n",
    "for i in range(len(arr)-1):\n",
    "    if arr[i] > arr[i+1]:\n",
    "        flag = i+1\n",
    "print(flag)"
   ]
  },
  {
   "cell_type": "markdown",
   "metadata": {},
   "source": [
    "## Sort 0 1 2 "
   ]
  },
  {
   "cell_type": "code",
   "execution_count": 72,
   "metadata": {},
   "outputs": [
    {
     "data": {
      "text/plain": [
       "[0, 0, 0, 1, 1, 2, 2]"
      ]
     },
     "execution_count": 72,
     "metadata": {},
     "output_type": "execute_result"
    }
   ],
   "source": [
    "arr = [0 ,1 ,2 ,0 ,2 ,0 ,1] \n",
    "arr2 = []\n",
    "one = 0\n",
    "two = 0\n",
    "for i in arr:\n",
    "    if i == 0:\n",
    "        arr2.append(0)\n",
    "    elif i==1:\n",
    "        one +=1\n",
    "    else:\n",
    "        two +=1\n",
    "for i in range(one):\n",
    "    arr2.append(1)\n",
    "for i in range(two):\n",
    "    arr2.append(2) \n",
    "arr2"
   ]
  },
  {
   "cell_type": "markdown",
   "metadata": {},
   "source": [
    "## Add two arrays "
   ]
  },
  {
   "cell_type": "code",
   "execution_count": null,
   "metadata": {},
   "outputs": [],
   "source": [
    "arr1 = input()\n",
    "arr2 = input()\n",
    "add = int(arr1.replace(\" \",\"\")) + int(arr2.replace(\" \",\"\"))\n",
    "str(add)"
   ]
  },
  {
   "cell_type": "code",
   "execution_count": 87,
   "metadata": {},
   "outputs": [
    {
     "data": {
      "text/plain": [
       "[5, 7, 9]"
      ]
     },
     "execution_count": 87,
     "metadata": {},
     "output_type": "execute_result"
    }
   ],
   "source": [
    "arr3 = []\n",
    "[arr3.append(int(i)) for i in str(add)]\n",
    "arr3"
   ]
  },
  {
   "cell_type": "markdown",
   "metadata": {},
   "source": [
    "# Insertion Sort "
   ]
  },
  {
   "cell_type": "code",
   "execution_count": 12,
   "metadata": {},
   "outputs": [],
   "source": [
    "arr = [9,8,7,6,5,3]\n",
    "for i in range(1,len(arr)):\n",
    "    temp = arr[i]\n",
    "    j= i-1\n",
    "    while j>=0 and arr[j]>temp:\n",
    "        arr[j+1] = arr[j]\n",
    "        j -=1\n",
    "    arr[j+1] = temp"
   ]
  },
  {
   "cell_type": "code",
   "execution_count": 13,
   "metadata": {},
   "outputs": [
    {
     "data": {
      "text/plain": [
       "[3, 5, 6, 7, 8, 9]"
      ]
     },
     "execution_count": 13,
     "metadata": {},
     "output_type": "execute_result"
    }
   ],
   "source": [
    "arr"
   ]
  },
  {
   "cell_type": "markdown",
   "metadata": {},
   "source": [
    "# Strings"
   ]
  },
  {
   "cell_type": "code",
   "execution_count": 1,
   "metadata": {},
   "outputs": [],
   "source": [
    "name = '''My\n",
    "name is \n",
    "Sudhanshu'''"
   ]
  },
  {
   "cell_type": "code",
   "execution_count": 5,
   "metadata": {},
   "outputs": [
    {
     "data": {
      "text/plain": [
       "' '"
      ]
     },
     "execution_count": 5,
     "metadata": {},
     "output_type": "execute_result"
    }
   ],
   "source": [
    "name[7]"
   ]
  },
  {
   "cell_type": "code",
   "execution_count": 6,
   "metadata": {},
   "outputs": [
    {
     "data": {
      "text/plain": [
       "'\\n'"
      ]
     },
     "execution_count": 6,
     "metadata": {},
     "output_type": "execute_result"
    }
   ],
   "source": [
    "name[2]"
   ]
  },
  {
   "cell_type": "code",
   "execution_count": 7,
   "metadata": {},
   "outputs": [
    {
     "data": {
      "text/plain": [
       "'My\\nname is \\nSudhanshu'"
      ]
     },
     "execution_count": 7,
     "metadata": {},
     "output_type": "execute_result"
    }
   ],
   "source": [
    "name"
   ]
  },
  {
   "cell_type": "code",
   "execution_count": 8,
   "metadata": {},
   "outputs": [
    {
     "name": "stdout",
     "output_type": "stream",
     "text": [
      "My\n",
      "name is \n",
      "Sudhanshu\n"
     ]
    }
   ],
   "source": [
    "print(name)"
   ]
  },
  {
   "cell_type": "code",
   "execution_count": 1,
   "metadata": {},
   "outputs": [],
   "source": [
    "str = \"abcde\""
   ]
  },
  {
   "cell_type": "code",
   "execution_count": 2,
   "metadata": {},
   "outputs": [
    {
     "data": {
      "text/plain": [
       "'ebcde'"
      ]
     },
     "execution_count": 2,
     "metadata": {},
     "output_type": "execute_result"
    }
   ],
   "source": [
    "str.replace(\"a\",\"e\")"
   ]
  },
  {
   "cell_type": "code",
   "execution_count": 6,
   "metadata": {},
   "outputs": [],
   "source": [
    "# Manual way of using replace functionality\n",
    "def rep(s):\n",
    "    str = []\n",
    "    for i in range(len(s)):\n",
    "        if s[i] == \"a\":\n",
    "            str.append(\"d\")\n",
    "        else:\n",
    "            str.append(s[i])\n",
    "    return \"\".join(str)"
   ]
  },
  {
   "cell_type": "code",
   "execution_count": 7,
   "metadata": {},
   "outputs": [
    {
     "data": {
      "text/plain": [
       "'dbcddd'"
      ]
     },
     "execution_count": 7,
     "metadata": {},
     "output_type": "execute_result"
    }
   ],
   "source": [
    "rep(\"abcdaa\")"
   ]
  },
  {
   "cell_type": "code",
   "execution_count": 8,
   "metadata": {},
   "outputs": [],
   "source": [
    "#Another method\n",
    "def rep2(s):\n",
    "    str = \"\"\n",
    "    for i in s:\n",
    "        if i == \"a\":\n",
    "            str += \"e\"\n",
    "        else:\n",
    "            str += i\n",
    "    return str"
   ]
  },
  {
   "cell_type": "code",
   "execution_count": 9,
   "metadata": {},
   "outputs": [
    {
     "data": {
      "text/plain": [
       "'ebcsdeee'"
      ]
     },
     "execution_count": 9,
     "metadata": {},
     "output_type": "execute_result"
    }
   ],
   "source": [
    "rep2(\"abcsdaaa\")"
   ]
  },
  {
   "cell_type": "markdown",
   "metadata": {},
   "source": [
    "## Count Vowels consonants and digits"
   ]
  },
  {
   "cell_type": "code",
   "execution_count": 14,
   "metadata": {},
   "outputs": [],
   "source": [
    "def count(s):\n",
    "    vowels = 0\n",
    "    consonants = 0\n",
    "    digits = 0\n",
    "    spe = 0\n",
    "    vowl = 'aeiou'\n",
    "    s = s.lower()\n",
    "    for i in s:\n",
    "        if (i >= 'a' and i<= 'z'):\n",
    "            if i in vowl:\n",
    "                vowels +=1\n",
    "            else:\n",
    "                consonants +=1\n",
    "        elif (i>='0' and i<='9'):\n",
    "            digits +=1\n",
    "        else:\n",
    "            spe +=1\n",
    "    return vowels,consonants,digits,spe"
   ]
  },
  {
   "cell_type": "code",
   "execution_count": 17,
   "metadata": {},
   "outputs": [
    {
     "data": {
      "text/plain": [
       "(2, 5, 6, 3)"
      ]
     },
     "execution_count": 17,
     "metadata": {},
     "output_type": "execute_result"
    }
   ],
   "source": [
    "count('aAbcd5445@! sp23')"
   ]
  },
  {
   "cell_type": "markdown",
   "metadata": {},
   "source": [
    "## Checking permutation of each other"
   ]
  },
  {
   "cell_type": "code",
   "execution_count": 43,
   "metadata": {},
   "outputs": [
    {
     "name": "stdout",
     "output_type": "stream",
     "text": [
      "Possible\n"
     ]
    }
   ],
   "source": [
    "str1= \"sinrtg\" \n",
    "str2 = \"string\"\n",
    "str3 = []\n",
    "[str3.append(i) for i in str2]\n",
    "for i in str1:\n",
    "    if i in str3:\n",
    "        str3.remove(i)\n",
    "    else:\n",
    "        break\n",
    "else:\n",
    "    print(\"Possible\")"
   ]
  },
  {
   "cell_type": "markdown",
   "metadata": {},
   "source": [
    "## Remove Consecutive Duplicates"
   ]
  },
  {
   "cell_type": "code",
   "execution_count": 63,
   "metadata": {},
   "outputs": [],
   "source": [
    "str = \"aaabbccaa\"\n",
    "str_final =\"\"\n",
    "\n",
    "for i in range(len(str)-1):\n",
    "    if str[i] == str[i+1]:\n",
    "        continue\n",
    "    else:\n",
    "        str_final += str[i]\n",
    "str_final += str[-1]"
   ]
  },
  {
   "cell_type": "code",
   "execution_count": 64,
   "metadata": {},
   "outputs": [
    {
     "data": {
      "text/plain": [
       "'abca'"
      ]
     },
     "execution_count": 64,
     "metadata": {},
     "output_type": "execute_result"
    }
   ],
   "source": [
    "str_final"
   ]
  },
  {
   "cell_type": "markdown",
   "metadata": {},
   "source": [
    "## Reverse all Words"
   ]
  },
  {
   "cell_type": "code",
   "execution_count": 65,
   "metadata": {},
   "outputs": [],
   "source": [
    "str = \"Welcome to Coding Ninjas\"\n",
    "str = str.split()"
   ]
  },
  {
   "cell_type": "code",
   "execution_count": 69,
   "metadata": {},
   "outputs": [],
   "source": [
    "str_final = []\n",
    "for i in str:\n",
    "    rev_str = \"\"\n",
    "    for j in range(len(i)-1,-1,-1):\n",
    "        rev_str += i[j]\n",
    "    str_final.append(rev_str)"
   ]
  },
  {
   "cell_type": "code",
   "execution_count": 72,
   "metadata": {},
   "outputs": [
    {
     "data": {
      "text/plain": [
       "'emocleW ot gnidoC sajniN'"
      ]
     },
     "execution_count": 72,
     "metadata": {},
     "output_type": "execute_result"
    }
   ],
   "source": [
    "\" \".join(str_final)"
   ]
  },
  {
   "cell_type": "markdown",
   "metadata": {},
   "source": [
    "## Remove characters"
   ]
  },
  {
   "cell_type": "code",
   "execution_count": 4,
   "metadata": {},
   "outputs": [
    {
     "name": "stdout",
     "output_type": "stream",
     "text": [
      "aaabbcbaabcbabcbaa\n",
      "a\n"
     ]
    }
   ],
   "source": [
    "str = input()\n",
    "rep = input()\n",
    "new_str = \"\"\n",
    "for i in str:\n",
    "    if i != rep:\n",
    "        new_str += i"
   ]
  },
  {
   "cell_type": "code",
   "execution_count": 5,
   "metadata": {},
   "outputs": [
    {
     "data": {
      "text/plain": [
       "'bbcbbcbbcb'"
      ]
     },
     "execution_count": 5,
     "metadata": {},
     "output_type": "execute_result"
    }
   ],
   "source": [
    "new_str"
   ]
  },
  {
   "cell_type": "markdown",
   "metadata": {},
   "source": [
    "# Highest Occuring Character"
   ]
  },
  {
   "cell_type": "code",
   "execution_count": 18,
   "metadata": {},
   "outputs": [
    {
     "name": "stdout",
     "output_type": "stream",
     "text": [
      "a\n"
     ]
    }
   ],
   "source": [
    "str = \"abcdeapapqarr\"\n",
    "frequency = [0]*26\n",
    "for i in str:\n",
    "    order = ord(i)\n",
    "    frequency[order - 97]+= 1\n",
    "print(chr((frequency.index(max(frequency)))+97))"
   ]
  },
  {
   "cell_type": "markdown",
   "metadata": {},
   "source": [
    "# Compressing Duplicates"
   ]
  },
  {
   "cell_type": "code",
   "execution_count": 27,
   "metadata": {},
   "outputs": [
    {
     "ename": "TypeError",
     "evalue": "'str' object is not callable",
     "output_type": "error",
     "traceback": [
      "\u001b[1;31m---------------------------------------------------------------------------\u001b[0m",
      "\u001b[1;31mTypeError\u001b[0m                                 Traceback (most recent call last)",
      "\u001b[1;32m<ipython-input-27-c0ad5d798353>\u001b[0m in \u001b[0;36m<module>\u001b[1;34m\u001b[0m\n\u001b[0;32m      9\u001b[0m     \u001b[1;32melse\u001b[0m\u001b[1;33m:\u001b[0m\u001b[1;33m\u001b[0m\u001b[1;33m\u001b[0m\u001b[0m\n\u001b[0;32m     10\u001b[0m         \u001b[1;32mif\u001b[0m \u001b[0mcount\u001b[0m\u001b[1;33m>\u001b[0m\u001b[1;36m1\u001b[0m\u001b[1;33m:\u001b[0m\u001b[1;33m\u001b[0m\u001b[1;33m\u001b[0m\u001b[0m\n\u001b[1;32m---> 11\u001b[1;33m             \u001b[0mnew_str\u001b[0m \u001b[1;33m+=\u001b[0m \u001b[0mstr\u001b[0m\u001b[1;33m(\u001b[0m\u001b[0mcount\u001b[0m\u001b[1;33m)\u001b[0m\u001b[1;33m\u001b[0m\u001b[1;33m\u001b[0m\u001b[0m\n\u001b[0m",
      "\u001b[1;31mTypeError\u001b[0m: 'str' object is not callable"
     ]
    }
   ],
   "source": [
    "stri = \"aaabbccdsa\"\n",
    "new_str = \"\"\n",
    "count = 1\n",
    "for i in range(len(stri)-1):\n",
    "    if count ==1:\n",
    "        new_str += stri[i]\n",
    "    if stri[i] == stri[i+1]:\n",
    "        count +=1\n",
    "    else:\n",
    "        if count>1:\n",
    "            new_str += str(count)"
   ]
  },
  {
   "cell_type": "code",
   "execution_count": 24,
   "metadata": {},
   "outputs": [
    {
     "data": {
      "text/plain": [
       "'a\\x03\\x04\\x05\\x05\\x05'"
      ]
     },
     "execution_count": 24,
     "metadata": {},
     "output_type": "execute_result"
    }
   ],
   "source": [
    "new_str"
   ]
  },
  {
   "cell_type": "markdown",
   "metadata": {},
   "source": [
    "# Pattern"
   ]
  },
  {
   "cell_type": "code",
   "execution_count": 12,
   "metadata": {},
   "outputs": [
    {
     "name": "stdout",
     "output_type": "stream",
     "text": [
      "5\n",
      "    *\n",
      "   **\n",
      "  ***\n",
      " ****\n",
      "*****\n"
     ]
    }
   ],
   "source": [
    "n = int(input())\n",
    "for i in range(1,n+1):\n",
    "    for spaces in range(0,n-i):\n",
    "        print(\" \",end=\"\")\n",
    "    for stars in range(i):\n",
    "        print(\"*\",end=\"\")\n",
    "    print(\"\")"
   ]
  },
  {
   "cell_type": "markdown",
   "metadata": {},
   "source": [
    "# Recursion"
   ]
  },
  {
   "cell_type": "markdown",
   "metadata": {},
   "source": [
    "### Fibonacci Series"
   ]
  },
  {
   "cell_type": "code",
   "execution_count": 7,
   "metadata": {},
   "outputs": [],
   "source": [
    "import sys\n",
    "sys.setrecursionlimit(3000)\n",
    "def fib(n):\n",
    "    if n == 1 or n ==2:\n",
    "        return 1\n",
    "    fib_n_1 = fib(n-1)\n",
    "    fib_n_2 = fib(n-2)\n",
    "    output = fib_n_1 + fib_n_2\n",
    "    return output"
   ]
  },
  {
   "cell_type": "code",
   "execution_count": null,
   "metadata": {},
   "outputs": [],
   "source": [
    "fib(2000)"
   ]
  },
  {
   "cell_type": "markdown",
   "metadata": {},
   "source": [
    "### Checking first occurence of 'x'"
   ]
  },
  {
   "cell_type": "code",
   "execution_count": 29,
   "metadata": {},
   "outputs": [],
   "source": [
    "def check(li,x,start=0):\n",
    "    if start == len(li)-1:\n",
    "        return -1\n",
    "    if li[start] == x:\n",
    "        return start\n",
    "    return check(li,x,start+1)"
   ]
  },
  {
   "cell_type": "code",
   "execution_count": 30,
   "metadata": {},
   "outputs": [
    {
     "data": {
      "text/plain": [
       "-1"
      ]
     },
     "execution_count": 30,
     "metadata": {},
     "output_type": "execute_result"
    }
   ],
   "source": [
    "check([1,2,3,4],8)"
   ]
  },
  {
   "cell_type": "code",
   "execution_count": 23,
   "metadata": {},
   "outputs": [],
   "source": [
    "def firstIndex(li,x):\n",
    "    if len(li) == 0:\n",
    "        return -1\n",
    "    if li[0] == x:\n",
    "        return 0\n",
    "    smallerList = firstIndex(li[1:],x)\n",
    "    if smallerList !=-1:\n",
    "        return smallerList +1"
   ]
  },
  {
   "cell_type": "code",
   "execution_count": 24,
   "metadata": {},
   "outputs": [
    {
     "data": {
      "text/plain": [
       "4"
      ]
     },
     "execution_count": 24,
     "metadata": {},
     "output_type": "execute_result"
    }
   ],
   "source": [
    "firstIndex([1,2,3,3,4],4)"
   ]
  },
  {
   "cell_type": "markdown",
   "metadata": {},
   "source": [
    "### Checking last occurence of 'x'"
   ]
  },
  {
   "cell_type": "code",
   "execution_count": 49,
   "metadata": {},
   "outputs": [],
   "source": [
    "def checkL(li,x,start):\n",
    "    if start == -1: \n",
    "        return -1\n",
    "    if li[start-1] == x:\n",
    "        return start-1\n",
    "    return checkL(li,x,start-1)"
   ]
  },
  {
   "cell_type": "code",
   "execution_count": 55,
   "metadata": {},
   "outputs": [
    {
     "data": {
      "text/plain": [
       "-1"
      ]
     },
     "execution_count": 55,
     "metadata": {},
     "output_type": "execute_result"
    }
   ],
   "source": [
    "checkLast([1,2,3,4,5,5,5],5)"
   ]
  },
  {
   "cell_type": "code",
   "execution_count": 50,
   "metadata": {},
   "outputs": [
    {
     "data": {
      "text/plain": [
       "8"
      ]
     },
     "execution_count": 50,
     "metadata": {},
     "output_type": "execute_result"
    }
   ],
   "source": [
    "checkL([1,2,3,4,5,5,5,5,5],5,9)"
   ]
  },
  {
   "cell_type": "markdown",
   "metadata": {},
   "source": [
    "### Checking last occurence of 'x' -2"
   ]
  },
  {
   "cell_type": "code",
   "execution_count": 3,
   "metadata": {},
   "outputs": [],
   "source": [
    "def lastIndex(li,x):\n",
    "    if len(li) == 0:\n",
    "        return -1\n",
    "    output = lastIndex(li[1:],x)\n",
    "    if output != -1:\n",
    "        return output+1\n",
    "    else:\n",
    "        if li[0] == x:\n",
    "            return 0\n",
    "        else:\n",
    "            return -1"
   ]
  },
  {
   "cell_type": "code",
   "execution_count": 5,
   "metadata": {},
   "outputs": [
    {
     "data": {
      "text/plain": [
       "2"
      ]
     },
     "execution_count": 5,
     "metadata": {},
     "output_type": "execute_result"
    }
   ],
   "source": [
    "lastIndex([1,2,2,3,3,5],2)"
   ]
  },
  {
   "cell_type": "markdown",
   "metadata": {},
   "source": [
    "### Replace all the occurence in string"
   ]
  },
  {
   "cell_type": "code",
   "execution_count": 30,
   "metadata": {},
   "outputs": [],
   "source": [
    "def replace(str,a,b,c=\"\"):\n",
    "    if len(str) == 0:\n",
    "        print(c)\n",
    "        return\n",
    "    if str[0] == a:\n",
    "        c += b\n",
    "    else:\n",
    "        c += str[0]\n",
    "    replace(str[1:],a,b,c)    "
   ]
  },
  {
   "cell_type": "code",
   "execution_count": 31,
   "metadata": {},
   "outputs": [
    {
     "name": "stdout",
     "output_type": "stream",
     "text": [
      "heooooooo\n"
     ]
    }
   ],
   "source": [
    "replace(\"hellllllo\",'l','o')"
   ]
  },
  {
   "cell_type": "markdown",
   "metadata": {},
   "source": [
    "### Remove X"
   ]
  },
  {
   "cell_type": "code",
   "execution_count": 48,
   "metadata": {},
   "outputs": [],
   "source": [
    "def remove(stri,a):\n",
    "    if len(stri) == 0:\n",
    "        return stri\n",
    "    smallOutput = remove(stri[1:],a)\n",
    "#     print(smallOutput)\n",
    "    if stri[0] == a:\n",
    "        return smallOutput\n",
    "    else:\n",
    "        return stri[0] + smallOutput"
   ]
  },
  {
   "cell_type": "code",
   "execution_count": 49,
   "metadata": {},
   "outputs": [
    {
     "data": {
      "text/plain": [
       "'ada'"
      ]
     },
     "execution_count": 49,
     "metadata": {},
     "output_type": "execute_result"
    }
   ],
   "source": [
    "remove(\"axxdax\",\"x\")"
   ]
  },
  {
   "cell_type": "markdown",
   "metadata": {},
   "source": [
    "### Replace pi"
   ]
  },
  {
   "cell_type": "code",
   "execution_count": 63,
   "metadata": {},
   "outputs": [],
   "source": [
    "def replace(str):\n",
    "    if len(str) == 0 or len(str) == 1:\n",
    "        return str\n",
    "    if str[0] == \"p\" and str[1] == \"i\":\n",
    "        smallOutput = replace(str[2:])\n",
    "        return \"3.14\" + smallOutput\n",
    "    else:\n",
    "        smallOutput = replace(str[1:])\n",
    "        return str[0] + smallOutput"
   ]
  },
  {
   "cell_type": "code",
   "execution_count": 66,
   "metadata": {},
   "outputs": [
    {
     "data": {
      "text/plain": [
       "'ab3.14i3.14'"
      ]
     },
     "execution_count": 66,
     "metadata": {},
     "output_type": "execute_result"
    }
   ],
   "source": [
    "replace(\"abpiipi\")"
   ]
  },
  {
   "cell_type": "markdown",
   "metadata": {},
   "source": [
    "### Remove Duplicates Recursively"
   ]
  },
  {
   "cell_type": "code",
   "execution_count": null,
   "metadata": {},
   "outputs": [],
   "source": [
    "def duplicate(str):\n",
    "    if len(str) == 0 or len(str) == 1:\n",
    "        return str\n",
    "    smallOutput = duplicate(str[1:])\n",
    "    if str[0] == smallOutput:\n",
    "        return smallOutput\n",
    "    else:\n",
    "        str[0]"
   ]
  },
  {
   "cell_type": "markdown",
   "metadata": {},
   "source": [
    "### Binary Search"
   ]
  },
  {
   "cell_type": "code",
   "execution_count": 65,
   "metadata": {},
   "outputs": [],
   "source": [
    "def binarySearch(li,x):\n",
    "    if len(li) == 0:\n",
    "        return -1\n",
    "    q = (len(li)//2)\n",
    "    print(li)\n",
    "    if li[q] == x:\n",
    "        return \"Found\"\n",
    "    elif len(li) == 1:\n",
    "        return -1\n",
    "    elif li[q] > x:\n",
    "        return binarySearch(li[:q],x)\n",
    "    elif li[q] < x:\n",
    "        return binarySearch(li[q:],x)"
   ]
  },
  {
   "cell_type": "code",
   "execution_count": 66,
   "metadata": {},
   "outputs": [
    {
     "name": "stdout",
     "output_type": "stream",
     "text": [
      "[1, 2, 3, 4, 5, 8, 9]\n",
      "[4, 5, 8, 9]\n"
     ]
    },
    {
     "data": {
      "text/plain": [
       "'Found'"
      ]
     },
     "execution_count": 66,
     "metadata": {},
     "output_type": "execute_result"
    }
   ],
   "source": [
    "binarySearch([1,2,3,4,5,8,9],8)"
   ]
  },
  {
   "cell_type": "code",
   "execution_count": 15,
   "metadata": {},
   "outputs": [],
   "source": [
    "def binaryS(li,x,start,end):\n",
    "    if start > end:\n",
    "        return -1\n",
    "    mid = (start+end)//2\n",
    "#     start = 0\n",
    "#     end = len(li)-1\n",
    "    if li[mid] ==x :\n",
    "        return mid\n",
    "    elif li[mid] > x:\n",
    "        return binaryS(li,x,start,mid-1)\n",
    "    elif li[mid] <x:\n",
    "        return binaryS(li,x,mid+1,end)"
   ]
  },
  {
   "cell_type": "code",
   "execution_count": 16,
   "metadata": {},
   "outputs": [
    {
     "data": {
      "text/plain": [
       "-1"
      ]
     },
     "execution_count": 16,
     "metadata": {},
     "output_type": "execute_result"
    }
   ],
   "source": [
    "binaryS([1,2,8],3,0,2)"
   ]
  },
  {
   "cell_type": "markdown",
   "metadata": {},
   "source": [
    "## Merge Sort"
   ]
  },
  {
   "cell_type": "code",
   "execution_count": 34,
   "metadata": {},
   "outputs": [],
   "source": [
    "def merge(s1,s2,arr):\n",
    "    i =0 \n",
    "    j =0\n",
    "    k =0\n",
    "    while i < len(s1) and j < len(s2):\n",
    "        if s1[i] < s2[j]:\n",
    "            arr[k] = s1[i]\n",
    "            k +=1\n",
    "            i +=1\n",
    "        else:\n",
    "            arr[k] = s2[j]\n",
    "            k+=1\n",
    "            j+=1\n",
    "    while i<len(s1):\n",
    "        arr[k] = s1[i]\n",
    "        i +=1\n",
    "        k+=1\n",
    "    while j<len(s2):\n",
    "        arr[k] = s2[j]\n",
    "        j+=1\n",
    "        k+=1\n",
    "    return arr"
   ]
  },
  {
   "cell_type": "code",
   "execution_count": 42,
   "metadata": {},
   "outputs": [],
   "source": [
    "def mergeSort(arr):\n",
    "    if len(arr) == 0 or len(arr) == 1:\n",
    "        return\n",
    "    q = len(arr)//2\n",
    "    s1 = arr[:q]\n",
    "    s2 = arr[q:]\n",
    "    mergeSort(s1)\n",
    "    mergeSort(s2)\n",
    "    return merge(s1,s2,arr)"
   ]
  },
  {
   "cell_type": "code",
   "execution_count": 43,
   "metadata": {},
   "outputs": [
    {
     "data": {
      "text/plain": [
       "[1, 2, 3]"
      ]
     },
     "execution_count": 43,
     "metadata": {},
     "output_type": "execute_result"
    }
   ],
   "source": [
    "mergeSort([2,3,1])"
   ]
  },
  {
   "cell_type": "markdown",
   "metadata": {},
   "source": [
    "### Binary Revision"
   ]
  },
  {
   "cell_type": "code",
   "execution_count": 52,
   "metadata": {},
   "outputs": [],
   "source": [
    "def binary(li,x):\n",
    "    if len(li) == 0:\n",
    "        return \"not found\"\n",
    "    if len(li) ==1:\n",
    "        if li[0] ==x:\n",
    "            return \"Found\"\n",
    "        else:\n",
    "            return \"Not Found\"\n",
    "    mid = len(li)//2\n",
    "    if li[mid] == x:\n",
    "        return \"Found\"\n",
    "    elif li[mid] > x:\n",
    "        return binary(li[:mid],x)\n",
    "    elif li[mid] < x:\n",
    "        return binary(li[mid+1:],x)"
   ]
  },
  {
   "cell_type": "code",
   "execution_count": 53,
   "metadata": {},
   "outputs": [
    {
     "data": {
      "text/plain": [
       "'Not Found'"
      ]
     },
     "execution_count": 53,
     "metadata": {},
     "output_type": "execute_result"
    }
   ],
   "source": [
    "binary([1,2,3],100)"
   ]
  },
  {
   "cell_type": "code",
   "execution_count": 56,
   "metadata": {},
   "outputs": [],
   "source": [
    "def binaryB(li,x,start,end):\n",
    "    if start > end:\n",
    "        return \"Not Found\"\n",
    "    mid = (start+end)//2\n",
    "    if li[mid] == x:\n",
    "        return \"Found\"\n",
    "    elif li[mid] >x:\n",
    "        return binaryB(li,x,start,mid-1)\n",
    "    elif li[mid] <x:\n",
    "        return binaryB(li,x,mid+1,end)"
   ]
  },
  {
   "cell_type": "code",
   "execution_count": 59,
   "metadata": {},
   "outputs": [
    {
     "data": {
      "text/plain": [
       "'Not Found'"
      ]
     },
     "execution_count": 59,
     "metadata": {},
     "output_type": "execute_result"
    }
   ],
   "source": [
    "binaryB([1,2,3],100,0,2)"
   ]
  },
  {
   "cell_type": "markdown",
   "metadata": {},
   "source": [
    "## Merge Sort Revision"
   ]
  },
  {
   "cell_type": "code",
   "execution_count": 15,
   "metadata": {},
   "outputs": [],
   "source": [
    "def merge(arr1,arr2,li):\n",
    "    i =0 \n",
    "    j =0\n",
    "    k =0\n",
    "    while i< len(arr1) and j<len(arr2):\n",
    "        if arr1[i] < arr2[j]:\n",
    "            li[k] = arr1[i]\n",
    "            i +=1\n",
    "            k +=1\n",
    "        else:\n",
    "            li[k] = arr2[j]\n",
    "            j +=1\n",
    "            k +=1\n",
    "    while i <len(arr1):\n",
    "        li[k] = arr1[i]\n",
    "        i +=1\n",
    "        k +=1\n",
    "    while j <len(arr2):\n",
    "        li[k] = arr2[j]\n",
    "        j +=1\n",
    "        k +=1\n",
    "        \n",
    "    return li"
   ]
  },
  {
   "cell_type": "code",
   "execution_count": 16,
   "metadata": {},
   "outputs": [],
   "source": [
    "def mergeSort(li):\n",
    "    if len(li) == 0 or len(li) == 1:\n",
    "        return li\n",
    "    mid = len(li)//2\n",
    "    arr1 = li[:mid]\n",
    "    arr2 = li[mid:]\n",
    "    mergeSort(arr1)\n",
    "    mergeSort(arr2)\n",
    "    merge(arr1,arr2,li)\n",
    "    return li"
   ]
  },
  {
   "cell_type": "code",
   "execution_count": 17,
   "metadata": {},
   "outputs": [
    {
     "data": {
      "text/plain": [
       "[1, 2, 5, 6]"
      ]
     },
     "execution_count": 17,
     "metadata": {},
     "output_type": "execute_result"
    }
   ],
   "source": [
    "mergeSort([2,5,1,6])"
   ]
  },
  {
   "cell_type": "markdown",
   "metadata": {},
   "source": [
    "## Quick Sort\n",
    "using last element as partiton"
   ]
  },
  {
   "cell_type": "code",
   "execution_count": 56,
   "metadata": {},
   "outputs": [],
   "source": [
    "def partition(li,start,end):\n",
    "    i = start \n",
    "    j = end\n",
    "    count =0\n",
    "    while i <=j-1:\n",
    "        if li[i] <= li[end]:\n",
    "            count +=1\n",
    "        i+=1\n",
    "    temp = li[start+count]\n",
    "    li[start+count] = li[end]\n",
    "    li[end] = temp\n",
    "    i=start\n",
    "    j=end\n",
    "    while i<(start+count) or j>(start+count):\n",
    "        if li[i] < li[start+count]:\n",
    "            i+=1\n",
    "        elif li[j] > li[start+count]:\n",
    "            j-=1\n",
    "        else:\n",
    "            temp = li[i]\n",
    "            li[i] = li[j]\n",
    "            li[j] = temp\n",
    "            i +=1\n",
    "            j -=1\n",
    "    return start+count"
   ]
  },
  {
   "cell_type": "code",
   "execution_count": 57,
   "metadata": {},
   "outputs": [],
   "source": [
    "def quickSort(li,start,end):\n",
    "    if start >= end:\n",
    "        return\n",
    "    a = partition(li,start,end)\n",
    "    quickSort(li,start,a-1)\n",
    "    quickSort(li,a+1,end)\n",
    "    return li"
   ]
  },
  {
   "cell_type": "code",
   "execution_count": 60,
   "metadata": {},
   "outputs": [
    {
     "data": {
      "text/plain": [
       "[0, 1, 2, 4, 5, 5, 9]"
      ]
     },
     "execution_count": 60,
     "metadata": {},
     "output_type": "execute_result"
    }
   ],
   "source": [
    "quickSort([2,4,1,5,5,9,0],0,6)"
   ]
  },
  {
   "cell_type": "markdown",
   "metadata": {},
   "source": [
    "### Quick Sort using first element as pivot"
   ]
  },
  {
   "cell_type": "code",
   "execution_count": 1,
   "metadata": {},
   "outputs": [],
   "source": [
    "def partition(li,start,end):\n",
    "    count =0\n",
    "    for i in range(start+1,end):\n",
    "        if li[start] > li[i]:\n",
    "            count +=1\n",
    "    li[start+count],li[start] = li[start],li[start+count]\n",
    "    i = start\n",
    "    j =end\n",
    "    while i < j:\n",
    "        if li[i]<li[start+count]:\n",
    "            i+=1\n",
    "        elif li[j] > li[start+count]:\n",
    "            j-=1\n",
    "        else:\n",
    "            li[i],li[j] = li[j],li[i]\n",
    "            i+=1\n",
    "            j-=1\n",
    "    return start+count"
   ]
  },
  {
   "cell_type": "code",
   "execution_count": 2,
   "metadata": {},
   "outputs": [],
   "source": [
    "def quick_sort(li,start,end):\n",
    "    if start >= end:\n",
    "        return\n",
    "    pivot = partition(li,start,end)\n",
    "    quick_sort(li,start,pivot-1)\n",
    "    quick_sort(li,pivot+1,end)\n",
    "    return li"
   ]
  },
  {
   "cell_type": "code",
   "execution_count": 3,
   "metadata": {},
   "outputs": [
    {
     "data": {
      "text/plain": [
       "[2, 3, 4, 5, 7, 9]"
      ]
     },
     "execution_count": 3,
     "metadata": {},
     "output_type": "execute_result"
    }
   ],
   "source": [
    "quick_sort([4,5,3,7,9,2],0,5)"
   ]
  },
  {
   "cell_type": "markdown",
   "metadata": {},
   "source": [
    "## Tower of hanoi"
   ]
  },
  {
   "cell_type": "code",
   "execution_count": 19,
   "metadata": {},
   "outputs": [],
   "source": [
    "def tower(n,source,helper,destination):\n",
    "    if n == 1:\n",
    "        print(f\"moving 1st disk from {source} to {destination}\")\n",
    "        return\n",
    "    tower(n-1,source,destination,helper)\n",
    "    print(f\"moving {n}th disk from {source} to {destination}\")\n",
    "    tower(n-1,helper,source,destination)"
   ]
  },
  {
   "cell_type": "code",
   "execution_count": 22,
   "metadata": {},
   "outputs": [
    {
     "name": "stdout",
     "output_type": "stream",
     "text": [
      "moving 1st disk from A to C\n",
      "moving 2th disk from A to B\n",
      "moving 1st disk from C to B\n",
      "moving 3th disk from A to C\n",
      "moving 1st disk from B to A\n",
      "moving 2th disk from B to C\n",
      "moving 1st disk from A to C\n"
     ]
    }
   ],
   "source": [
    "tower(3,'A','B','C')"
   ]
  },
  {
   "cell_type": "markdown",
   "metadata": {},
   "source": [
    "## Geometric Sum"
   ]
  },
  {
   "cell_type": "code",
   "execution_count": 35,
   "metadata": {},
   "outputs": [],
   "source": [
    "def geometricSum(n):\n",
    "    if n ==0:\n",
    "        return 1\n",
    "    s = geometricSum(n-1)\n",
    "    return (s + 1/(2**n))"
   ]
  },
  {
   "cell_type": "code",
   "execution_count": 36,
   "metadata": {},
   "outputs": [
    {
     "data": {
      "text/plain": [
       "1.9375"
      ]
     },
     "execution_count": 36,
     "metadata": {},
     "output_type": "execute_result"
    }
   ],
   "source": [
    "geometricSum(4)"
   ]
  },
  {
   "cell_type": "markdown",
   "metadata": {},
   "source": [
    "### Palindrome"
   ]
  },
  {
   "cell_type": "code",
   "execution_count": 43,
   "metadata": {},
   "outputs": [],
   "source": [
    "def palindrome(str):\n",
    "    if len(str) == 1:\n",
    "        return True\n",
    "    if str[0] == str[-1]:\n",
    "        return palindrome(str[1:-1])\n",
    "    else:\n",
    "        return False"
   ]
  },
  {
   "cell_type": "code",
   "execution_count": 45,
   "metadata": {},
   "outputs": [
    {
     "data": {
      "text/plain": [
       "False"
      ]
     },
     "execution_count": 45,
     "metadata": {},
     "output_type": "execute_result"
    }
   ],
   "source": [
    "palindrome(\"ninja\")"
   ]
  },
  {
   "cell_type": "markdown",
   "metadata": {},
   "source": [
    "## Sum of digits"
   ]
  },
  {
   "cell_type": "code",
   "execution_count": 48,
   "metadata": {},
   "outputs": [],
   "source": [
    "def sum_of_digits(n):\n",
    "    if n < 10:\n",
    "        return n\n",
    "    s = sum_of_digits(n//10)\n",
    "    return s+n%10"
   ]
  },
  {
   "cell_type": "code",
   "execution_count": 50,
   "metadata": {},
   "outputs": [
    {
     "data": {
      "text/plain": [
       "9"
      ]
     },
     "execution_count": 50,
     "metadata": {},
     "output_type": "execute_result"
    }
   ],
   "source": [
    "sum_of_digits(9)"
   ]
  },
  {
   "cell_type": "markdown",
   "metadata": {},
   "source": [
    "## Multiplication Recursiviely"
   ]
  },
  {
   "cell_type": "code",
   "execution_count": 56,
   "metadata": {},
   "outputs": [],
   "source": [
    "def multi(n,m):\n",
    "    if m == 1:\n",
    "        return n\n",
    "    m = multi(n,m-1)\n",
    "    return m + n"
   ]
  },
  {
   "cell_type": "code",
   "execution_count": 57,
   "metadata": {},
   "outputs": [
    {
     "data": {
      "text/plain": [
       "48"
      ]
     },
     "execution_count": 57,
     "metadata": {},
     "output_type": "execute_result"
    }
   ],
   "source": [
    "multi(12,4)"
   ]
  },
  {
   "cell_type": "markdown",
   "metadata": {},
   "source": [
    "### Count number of zeros"
   ]
  },
  {
   "cell_type": "code",
   "execution_count": 95,
   "metadata": {},
   "outputs": [],
   "source": [
    "def count_zeros(n):\n",
    "    global count\n",
    "    if n < 10:\n",
    "        if n == 0:\n",
    "            count +=1\n",
    "        else:\n",
    "            return\n",
    "    if n%10 == 0:\n",
    "        count +=1\n",
    "    count_zeros(n//10)\n",
    "    return count"
   ]
  },
  {
   "cell_type": "code",
   "execution_count": 96,
   "metadata": {},
   "outputs": [
    {
     "data": {
      "text/plain": [
       "2"
      ]
     },
     "execution_count": 96,
     "metadata": {},
     "output_type": "execute_result"
    }
   ],
   "source": [
    "count = 0\n",
    "count_zeros(10204)"
   ]
  },
  {
   "cell_type": "markdown",
   "metadata": {},
   "source": [
    "### Pair star"
   ]
  },
  {
   "cell_type": "code",
   "execution_count": 145,
   "metadata": {},
   "outputs": [],
   "source": [
    "def pair_star(str):\n",
    "    global output\n",
    "    if len(str) == 1:\n",
    "        return output + str\n",
    "    output += str[0]\n",
    "    if str[0] == str[1]:\n",
    "        output += \"*\"\n",
    "    return pair_star(str[1:])\n",
    "    \n",
    "        "
   ]
  },
  {
   "cell_type": "code",
   "execution_count": 147,
   "metadata": {},
   "outputs": [
    {
     "data": {
      "text/plain": [
       "'a*a*a*a'"
      ]
     },
     "execution_count": 147,
     "metadata": {},
     "output_type": "execute_result"
    }
   ],
   "source": [
    "output = \"\"\n",
    "pair_star(\"aaaa\")"
   ]
  },
  {
   "cell_type": "markdown",
   "metadata": {},
   "source": [
    "### Geometric Sum"
   ]
  },
  {
   "cell_type": "code",
   "execution_count": 21,
   "metadata": {},
   "outputs": [],
   "source": [
    "def geometric(n):\n",
    "    if n == 0:\n",
    "        return 1\n",
    "    s = geometric(n-1)\n",
    "    return s + 1/(2**(n))"
   ]
  },
  {
   "cell_type": "code",
   "execution_count": 22,
   "metadata": {},
   "outputs": [
    {
     "data": {
      "text/plain": [
       "1.875"
      ]
     },
     "execution_count": 22,
     "metadata": {},
     "output_type": "execute_result"
    }
   ],
   "source": [
    "geometric(3)"
   ]
  },
  {
   "cell_type": "markdown",
   "metadata": {},
   "source": [
    "### Check Palindrome "
   ]
  },
  {
   "cell_type": "code",
   "execution_count": 27,
   "metadata": {},
   "outputs": [],
   "source": [
    "def palindorme(str):\n",
    "    if len(str) == 1:\n",
    "            return \"YES\"\n",
    "    if str[0] == str[-1]:\n",
    "        return palindorme(str[1:-1])\n",
    "    else:\n",
    "        return \"NO\""
   ]
  },
  {
   "cell_type": "code",
   "execution_count": 28,
   "metadata": {},
   "outputs": [
    {
     "data": {
      "text/plain": [
       "'YES'"
      ]
     },
     "execution_count": 28,
     "metadata": {},
     "output_type": "execute_result"
    }
   ],
   "source": [
    "palindorme(\"racecar\")"
   ]
  },
  {
   "cell_type": "code",
   "execution_count": 41,
   "metadata": {},
   "outputs": [],
   "source": [
    "#checking palindrome using helper function\n",
    "def helper(str,start,end):\n",
    "    if start == end:\n",
    "        return True\n",
    "    if str[start] == str[end]:\n",
    "        return helper(str,start+1,end-1)\n",
    "    else:\n",
    "        return False"
   ]
  },
  {
   "cell_type": "code",
   "execution_count": 42,
   "metadata": {},
   "outputs": [],
   "source": [
    "def palindrome(s):\n",
    "    end = len(s)\n",
    "    return helper(s,0,end-1)"
   ]
  },
  {
   "cell_type": "code",
   "execution_count": 43,
   "metadata": {},
   "outputs": [
    {
     "data": {
      "text/plain": [
       "False"
      ]
     },
     "execution_count": 43,
     "metadata": {},
     "output_type": "execute_result"
    }
   ],
   "source": [
    "palindrome(\"ninja\")"
   ]
  },
  {
   "cell_type": "markdown",
   "metadata": {},
   "source": [
    "### Sum of digits (recursive)"
   ]
  },
  {
   "cell_type": "code",
   "execution_count": 44,
   "metadata": {},
   "outputs": [],
   "source": [
    "def sum_of_digits(n):\n",
    "    if n<10:\n",
    "        return n\n",
    "    s = sum_of_digits(n//10)\n",
    "    return s + n%10"
   ]
  },
  {
   "cell_type": "code",
   "execution_count": 45,
   "metadata": {},
   "outputs": [
    {
     "data": {
      "text/plain": [
       "10"
      ]
     },
     "execution_count": 45,
     "metadata": {},
     "output_type": "execute_result"
    }
   ],
   "source": [
    "sum_of_digits(1234)"
   ]
  },
  {
   "cell_type": "markdown",
   "metadata": {},
   "source": [
    "### Multiplication (Recursive)"
   ]
  },
  {
   "cell_type": "code",
   "execution_count": 46,
   "metadata": {},
   "outputs": [],
   "source": [
    "def multiplication(N,M):\n",
    "    if M == 1:\n",
    "        return N\n",
    "    s = multiplication(N,M-1)\n",
    "    return s + N"
   ]
  },
  {
   "cell_type": "code",
   "execution_count": 47,
   "metadata": {},
   "outputs": [
    {
     "data": {
      "text/plain": [
       "6"
      ]
     },
     "execution_count": 47,
     "metadata": {},
     "output_type": "execute_result"
    }
   ],
   "source": [
    "multiplication(2,3)"
   ]
  },
  {
   "cell_type": "markdown",
   "metadata": {},
   "source": [
    "### Count Zeros"
   ]
  },
  {
   "cell_type": "code",
   "execution_count": 60,
   "metadata": {},
   "outputs": [],
   "source": [
    "def count_zeros(n):\n",
    "    if n < 10:\n",
    "        if n == 0:\n",
    "            return 1\n",
    "        else:\n",
    "            return 0\n",
    "    s = count_zeros(n//10)\n",
    "    if n%10 == 0:\n",
    "        return s+1\n",
    "    return s\n",
    "    "
   ]
  },
  {
   "cell_type": "code",
   "execution_count": 62,
   "metadata": {},
   "outputs": [
    {
     "data": {
      "text/plain": [
       "1"
      ]
     },
     "execution_count": 62,
     "metadata": {},
     "output_type": "execute_result"
    }
   ],
   "source": [
    "count_zeros(0)"
   ]
  },
  {
   "cell_type": "markdown",
   "metadata": {},
   "source": [
    "## String to Integer"
   ]
  },
  {
   "cell_type": "code",
   "execution_count": 63,
   "metadata": {},
   "outputs": [],
   "source": [
    "def string_to_integer(str):\n",
    "    if len(str) == 1:\n",
    "        return int(str)\n",
    "    s = string_to_integer(str[:-1])\n",
    "    return 10*s + int(str[-1])"
   ]
  },
  {
   "cell_type": "code",
   "execution_count": 64,
   "metadata": {},
   "outputs": [
    {
     "data": {
      "text/plain": [
       "1234"
      ]
     },
     "execution_count": 64,
     "metadata": {},
     "output_type": "execute_result"
    }
   ],
   "source": [
    "string_to_integer('1234')"
   ]
  },
  {
   "cell_type": "code",
   "execution_count": 67,
   "metadata": {},
   "outputs": [],
   "source": [
    "#without using copies of string\n",
    "def helper(str,start,end):\n",
    "    if start == end:\n",
    "        return int(str[start])\n",
    "    s = helper(str,start,end-1)\n",
    "    return s*10 + int(str[end])\n",
    "\n",
    "def str2int(s):\n",
    "    end = len(s)-1\n",
    "    return helper(s,0,end)\n",
    "    "
   ]
  },
  {
   "cell_type": "code",
   "execution_count": 68,
   "metadata": {},
   "outputs": [
    {
     "data": {
      "text/plain": [
       "1234"
      ]
     },
     "execution_count": 68,
     "metadata": {},
     "output_type": "execute_result"
    }
   ],
   "source": [
    "str2int('1234')"
   ]
  },
  {
   "cell_type": "markdown",
   "metadata": {},
   "source": [
    "### Pair star"
   ]
  },
  {
   "cell_type": "code",
   "execution_count": 82,
   "metadata": {},
   "outputs": [],
   "source": [
    "def pair_star(str):\n",
    "    global ans\n",
    "    if len(str)== 1:\n",
    "        ans+= str\n",
    "        return\n",
    "    if str[0] == str[1]:\n",
    "        ans+= str[0]+ \"*\"\n",
    "    else:\n",
    "        ans+= str[0]\n",
    "    pair_star(str[1:])\n",
    "    return ans"
   ]
  },
  {
   "cell_type": "code",
   "execution_count": 83,
   "metadata": {},
   "outputs": [
    {
     "data": {
      "text/plain": [
       "'hel*lo'"
      ]
     },
     "execution_count": 83,
     "metadata": {},
     "output_type": "execute_result"
    }
   ],
   "source": [
    "ans = \"\"\n",
    "pair_star(\"hello\")"
   ]
  },
  {
   "cell_type": "code",
   "execution_count": 93,
   "metadata": {},
   "outputs": [],
   "source": [
    "#pair star without copying the string\n",
    "def helper(str,start,end):\n",
    "    global output\n",
    "    if start == end:\n",
    "        output+=str[start]\n",
    "        return\n",
    "    if str[start] == str[start+1]:\n",
    "        output+= str[start]+ '*'\n",
    "    else:\n",
    "        output+=str[start]\n",
    "    helper(str,start+1,end)\n",
    "    return output\n",
    "\n",
    "def PairStar(s):\n",
    "    end = len(s)-1\n",
    "    return helper(s,0,end)\n",
    "        \n",
    "    "
   ]
  },
  {
   "cell_type": "code",
   "execution_count": 94,
   "metadata": {},
   "outputs": [
    {
     "data": {
      "text/plain": [
       "'hel*l*lo'"
      ]
     },
     "execution_count": 94,
     "metadata": {},
     "output_type": "execute_result"
    }
   ],
   "source": [
    "output = \"\"    \n",
    "PairStar(\"helllo\")"
   ]
  },
  {
   "cell_type": "markdown",
   "metadata": {},
   "source": [
    "## Stair case"
   ]
  },
  {
   "cell_type": "code",
   "execution_count": 125,
   "metadata": {},
   "outputs": [],
   "source": [
    "def stairCase(n):\n",
    "    if n ==1 or n ==0:\n",
    "        return 1\n",
    "    elif n ==2:\n",
    "        return 2\n",
    "    x = stairCase(n-3)\n",
    "    y = stairCase(n-2)\n",
    "    z = stairCase(n-1)\n",
    "    return x+y+z"
   ]
  },
  {
   "cell_type": "code",
   "execution_count": 126,
   "metadata": {},
   "outputs": [
    {
     "data": {
      "text/plain": [
       "7"
      ]
     },
     "execution_count": 126,
     "metadata": {},
     "output_type": "execute_result"
    }
   ],
   "source": [
    "stairCase(4)"
   ]
  },
  {
   "cell_type": "code",
   "execution_count": null,
   "metadata": {},
   "outputs": [],
   "source": []
  }
 ],
 "metadata": {
  "kernelspec": {
   "display_name": "Python 3",
   "language": "python",
   "name": "python3"
  },
  "language_info": {
   "codemirror_mode": {
    "name": "ipython",
    "version": 3
   },
   "file_extension": ".py",
   "mimetype": "text/x-python",
   "name": "python",
   "nbconvert_exporter": "python",
   "pygments_lexer": "ipython3",
   "version": "3.8.5"
  }
 },
 "nbformat": 4,
 "nbformat_minor": 4
}
