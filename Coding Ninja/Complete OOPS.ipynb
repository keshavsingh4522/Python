{
 "cells": [
  {
   "cell_type": "markdown",
   "metadata": {},
   "source": [
    "# Class\n",
    "\n",
    "Usefull Functions - \n",
    "1. getattr()\n",
    "2. delattr()\n",
    "3. hasattr()"
   ]
  },
  {
   "cell_type": "code",
   "execution_count": 1,
   "metadata": {},
   "outputs": [],
   "source": [
    "class student:\n",
    "    pass"
   ]
  },
  {
   "cell_type": "code",
   "execution_count": 16,
   "metadata": {},
   "outputs": [],
   "source": [
    "s1 = student()\n",
    "s2 = student()\n",
    "s1.name = \"Sudhanshu\"\n",
    "s2.number = 1"
   ]
  },
  {
   "cell_type": "code",
   "execution_count": 17,
   "metadata": {},
   "outputs": [
    {
     "data": {
      "text/plain": [
       "{'name': 'Sudhanshu'}"
      ]
     },
     "execution_count": 17,
     "metadata": {},
     "output_type": "execute_result"
    }
   ],
   "source": [
    "s1.__dict__"
   ]
  },
  {
   "cell_type": "code",
   "execution_count": 18,
   "metadata": {},
   "outputs": [
    {
     "data": {
      "text/plain": [
       "{'number': 1}"
      ]
     },
     "execution_count": 18,
     "metadata": {},
     "output_type": "execute_result"
    }
   ],
   "source": [
    "s2.__dict__"
   ]
  },
  {
   "cell_type": "code",
   "execution_count": 19,
   "metadata": {},
   "outputs": [
    {
     "data": {
      "text/plain": [
       "True"
      ]
     },
     "execution_count": 19,
     "metadata": {},
     "output_type": "execute_result"
    }
   ],
   "source": [
    "hasattr(s1,\"name\")"
   ]
  },
  {
   "cell_type": "code",
   "execution_count": 20,
   "metadata": {},
   "outputs": [
    {
     "data": {
      "text/plain": [
       "False"
      ]
     },
     "execution_count": 20,
     "metadata": {},
     "output_type": "execute_result"
    }
   ],
   "source": [
    "hasattr(s2,\"name\")"
   ]
  },
  {
   "cell_type": "code",
   "execution_count": 21,
   "metadata": {},
   "outputs": [
    {
     "data": {
      "text/plain": [
       "True"
      ]
     },
     "execution_count": 21,
     "metadata": {},
     "output_type": "execute_result"
    }
   ],
   "source": [
    "hasattr(s2,\"number\")"
   ]
  },
  {
   "cell_type": "code",
   "execution_count": 22,
   "metadata": {},
   "outputs": [
    {
     "data": {
      "text/plain": [
       "'Sudhanshu'"
      ]
     },
     "execution_count": 22,
     "metadata": {},
     "output_type": "execute_result"
    }
   ],
   "source": [
    "getattr(s1,\"name\")"
   ]
  },
  {
   "cell_type": "code",
   "execution_count": 23,
   "metadata": {},
   "outputs": [
    {
     "data": {
      "text/plain": [
       "0"
      ]
     },
     "execution_count": 23,
     "metadata": {},
     "output_type": "execute_result"
    }
   ],
   "source": [
    "getattr(s1,\"number\",0)"
   ]
  },
  {
   "cell_type": "code",
   "execution_count": 24,
   "metadata": {},
   "outputs": [
    {
     "data": {
      "text/plain": [
       "{}"
      ]
     },
     "execution_count": 24,
     "metadata": {},
     "output_type": "execute_result"
    }
   ],
   "source": [
    "delattr(s2,\"number\")\n",
    "s2.__dict__"
   ]
  },
  {
   "cell_type": "markdown",
   "metadata": {},
   "source": [
    "## init"
   ]
  },
  {
   "cell_type": "code",
   "execution_count": 5,
   "metadata": {},
   "outputs": [],
   "source": [
    "class Student:\n",
    "    def __init__(self,name,batch):\n",
    "        self.name = name\n",
    "        self.batch = batch"
   ]
  },
  {
   "cell_type": "code",
   "execution_count": 6,
   "metadata": {},
   "outputs": [],
   "source": [
    "s1 = Student(\"Sudhanshu\",1)"
   ]
  },
  {
   "cell_type": "code",
   "execution_count": 7,
   "metadata": {},
   "outputs": [
    {
     "data": {
      "text/plain": [
       "{'name': 'Sudhanshu', 'batch': 1}"
      ]
     },
     "execution_count": 7,
     "metadata": {},
     "output_type": "execute_result"
    }
   ],
   "source": [
    "s1.__dict__"
   ]
  },
  {
   "cell_type": "markdown",
   "metadata": {},
   "source": [
    "## Static method"
   ]
  },
  {
   "cell_type": "code",
   "execution_count": 11,
   "metadata": {},
   "outputs": [],
   "source": [
    "class Student():\n",
    "    def info(self):\n",
    "        self.name = \"Sudhanshu\"\n",
    "        self.batch = 1\n",
    "    def print_info(self):\n",
    "        print(self.name, self.batch)\n",
    "    \n",
    "    @staticmethod\n",
    "    def welcome_to_school():\n",
    "        print(\"welcome to school\")"
   ]
  },
  {
   "cell_type": "code",
   "execution_count": 12,
   "metadata": {},
   "outputs": [],
   "source": [
    "s1 = Student()"
   ]
  },
  {
   "cell_type": "code",
   "execution_count": 13,
   "metadata": {},
   "outputs": [
    {
     "data": {
      "text/plain": [
       "{}"
      ]
     },
     "execution_count": 13,
     "metadata": {},
     "output_type": "execute_result"
    }
   ],
   "source": [
    "s1.__dict__"
   ]
  },
  {
   "cell_type": "code",
   "execution_count": 21,
   "metadata": {},
   "outputs": [
    {
     "name": "stdout",
     "output_type": "stream",
     "text": [
      "Sudhanshu 1\n"
     ]
    }
   ],
   "source": [
    "s1.info()\n",
    "Student.print_info(s1)"
   ]
  },
  {
   "cell_type": "code",
   "execution_count": 22,
   "metadata": {},
   "outputs": [
    {
     "data": {
      "text/plain": [
       "{'name': 'Sudhanshu', 'batch': 1}"
      ]
     },
     "execution_count": 22,
     "metadata": {},
     "output_type": "execute_result"
    }
   ],
   "source": [
    "s1.__dict__"
   ]
  },
  {
   "cell_type": "code",
   "execution_count": 23,
   "metadata": {},
   "outputs": [
    {
     "name": "stdout",
     "output_type": "stream",
     "text": [
      "Sudhanshu 1\n"
     ]
    }
   ],
   "source": [
    "s1.print_info()\n",
    "#Student.print_info(s1)"
   ]
  },
  {
   "cell_type": "code",
   "execution_count": 24,
   "metadata": {},
   "outputs": [
    {
     "name": "stdout",
     "output_type": "stream",
     "text": [
      "welcome to school\n"
     ]
    }
   ],
   "source": [
    "s1.welcome_to_school()"
   ]
  },
  {
   "cell_type": "code",
   "execution_count": 25,
   "metadata": {},
   "outputs": [
    {
     "name": "stdout",
     "output_type": "stream",
     "text": [
      "welcome to school\n"
     ]
    }
   ],
   "source": [
    "Student.welcome_to_school()"
   ]
  },
  {
   "cell_type": "markdown",
   "metadata": {},
   "source": [
    "#### Predict the output"
   ]
  },
  {
   "cell_type": "code",
   "execution_count": 26,
   "metadata": {},
   "outputs": [],
   "source": [
    "class Student:\n",
    "    def __init__(self):\n",
    "        self.name = \"Sudhanshu\"\n",
    "        self.age = 21\n",
    "    def print_info(self):\n",
    "        print(self.name, self.age)\n",
    "        "
   ]
  },
  {
   "cell_type": "code",
   "execution_count": 28,
   "metadata": {},
   "outputs": [
    {
     "name": "stdout",
     "output_type": "stream",
     "text": [
      "Sudhanshu 21\n"
     ]
    }
   ],
   "source": [
    "s = Student()\n",
    "s.print_info()"
   ]
  },
  {
   "cell_type": "markdown",
   "metadata": {},
   "source": [
    "# Fraction Class"
   ]
  },
  {
   "cell_type": "code",
   "execution_count": 48,
   "metadata": {},
   "outputs": [],
   "source": [
    "class Fraction:\n",
    "    def __init__(self,numerator=0,denominator=1):\n",
    "        self.numerator = numerator\n",
    "        self.denominator = denominator\n",
    "    \n",
    "    def print_fraction(self):\n",
    "        if self.numerator == 0:\n",
    "            print(0)\n",
    "        elif self.denominator == 1:\n",
    "            print(self.numerator)\n",
    "        else:\n",
    "            print(f'{self.numerator}/{self.denominator}')\n",
    "           \n",
    "    def simplify(self):\n",
    "        gcd = min(self.numerator,self.denominator)\n",
    "        while gcd>1:\n",
    "            if self.numerator%gcd == 0 and self.denominator%gcd == 0:\n",
    "                break\n",
    "            gcd -=1\n",
    "        if gcd > 1:    \n",
    "            self.numerator = self.numerator//gcd\n",
    "            self.denominator = self.denominator//gcd\n",
    "    def add(self,obj):\n",
    "        self.numerator = self.numerator*obj.denominator + obj.numerator*self.denominator\n",
    "        self.denominator = self.denominator*obj.denominator\n",
    "        self.simplify()\n",
    "    \n",
    "    def multiply(self,obj):\n",
    "        self.numerator = self.numerator*obj.numerator\n",
    "        self.denominator = self.denominator*obj.denominator\n",
    "        self.simplify()"
   ]
  },
  {
   "cell_type": "code",
   "execution_count": 49,
   "metadata": {},
   "outputs": [],
   "source": [
    "f1 = Fraction(1,2)\n",
    "f2 = Fraction(2,3)"
   ]
  },
  {
   "cell_type": "code",
   "execution_count": 50,
   "metadata": {},
   "outputs": [],
   "source": [
    "f1.multiply(f2)"
   ]
  },
  {
   "cell_type": "code",
   "execution_count": 51,
   "metadata": {},
   "outputs": [
    {
     "name": "stdout",
     "output_type": "stream",
     "text": [
      "1/3\n"
     ]
    }
   ],
   "source": [
    "f1.print_fraction()"
   ]
  },
  {
   "cell_type": "markdown",
   "metadata": {},
   "source": [
    "# Complex Number"
   ]
  },
  {
   "cell_type": "code",
   "execution_count": 84,
   "metadata": {},
   "outputs": [],
   "source": [
    "class ComplexNumber:\n",
    "    def __init__(self,real=0,imaginary=0):\n",
    "        self.real = real\n",
    "        self.imaginary = imaginary\n",
    "        \n",
    "    def print_complex(self):\n",
    "        if self.real == 0 and self.imaginary == 0:\n",
    "            print(0)\n",
    "        elif self.real == 0:\n",
    "            print(f'{self.imaginary}i')\n",
    "        elif self.imaginary == 0:\n",
    "            print(f'{self.real}')\n",
    "        else:\n",
    "            print(f'{self.real} + {self.imaginary}i')\n",
    "        \n",
    "    def add(self,obj):\n",
    "        self.real += obj.real\n",
    "        self.imaginary += obj.imaginary\n",
    "        \n",
    "    def multiply(self,obj):\n",
    "        first = (self.real*obj.real) - (self.imaginary*obj.imaginary)\n",
    "        second = (self.real*obj.imaginary) + (self.imaginary*obj.real)\n",
    "        self.real = first\n",
    "        self.imaginary = second"
   ]
  },
  {
   "cell_type": "code",
   "execution_count": 85,
   "metadata": {},
   "outputs": [
    {
     "name": "stdout",
     "output_type": "stream",
     "text": [
      "0 0\n",
      "0 0\n",
      "1\n",
      "0\n"
     ]
    }
   ],
   "source": [
    "input1 = [int(x) for x in input().split()]\n",
    "obj1 = ComplexNumber(input1[0],input1[1])\n",
    "input2 = [int(x) for x in input().split()]\n",
    "obj2 = ComplexNumber(input2[0],input2[1])\n",
    "option = int(input())\n",
    "if option == 1:\n",
    "    obj1.add(obj2)\n",
    "else:\n",
    "    obj1.multiply(obj2)\n",
    "obj1.print_complex()"
   ]
  },
  {
   "cell_type": "markdown",
   "metadata": {},
   "source": [
    "# Class Methods"
   ]
  },
  {
   "cell_type": "code",
   "execution_count": 4,
   "metadata": {},
   "outputs": [],
   "source": [
    "from datetime import date\n",
    "class Student:\n",
    "    def __init__(self,name,age):\n",
    "        self.name = name\n",
    "        self.age = age\n",
    "    \n",
    "    @classmethod\n",
    "    def CalculateAge(cls,name,birthyear):\n",
    "        return cls(name,date.today().year - birthyear)\n",
    "    \n",
    "    def print_info(self):\n",
    "        print(self.name , self.age)"
   ]
  },
  {
   "cell_type": "code",
   "execution_count": 8,
   "metadata": {},
   "outputs": [],
   "source": [
    "s = Student.CalculateAge('Sudhanshu',2000)"
   ]
  },
  {
   "cell_type": "code",
   "execution_count": 9,
   "metadata": {},
   "outputs": [
    {
     "name": "stdout",
     "output_type": "stream",
     "text": [
      "Sudhanshu 21\n"
     ]
    }
   ],
   "source": [
    "s.print_info()"
   ]
  },
  {
   "cell_type": "markdown",
   "metadata": {},
   "source": [
    "# Private variable"
   ]
  },
  {
   "cell_type": "code",
   "execution_count": 13,
   "metadata": {},
   "outputs": [],
   "source": [
    "class Student:\n",
    "    def __init__(self,name,age):\n",
    "        self.__name = name\n",
    "        self.age = age\n",
    "    def print_info(self):\n",
    "        print(self.__name)"
   ]
  },
  {
   "cell_type": "code",
   "execution_count": 14,
   "metadata": {},
   "outputs": [],
   "source": [
    "s = Student('Sudhanshu',20)"
   ]
  },
  {
   "cell_type": "code",
   "execution_count": 15,
   "metadata": {},
   "outputs": [
    {
     "name": "stdout",
     "output_type": "stream",
     "text": [
      "Sudhanshu\n"
     ]
    },
    {
     "data": {
      "text/plain": [
       "'Sudhanshu'"
      ]
     },
     "execution_count": 15,
     "metadata": {},
     "output_type": "execute_result"
    }
   ],
   "source": [
    "s.print_info()\n",
    "s._Student__name"
   ]
  },
  {
   "cell_type": "markdown",
   "metadata": {},
   "source": [
    "### Complex number revision"
   ]
  },
  {
   "cell_type": "code",
   "execution_count": 24,
   "metadata": {},
   "outputs": [],
   "source": [
    "class Complex_Number:\n",
    "    def __init__(self,real =0,imaginary =0 ):\n",
    "        self.__real = real\n",
    "        self.__imaginary = imaginary\n",
    "        \n",
    "    def add(self,obj):\n",
    "        self.__real +=obj.__real\n",
    "        self.__imaginary += obj.__imaginary\n",
    "    \n",
    "    def multiply(self,obj):\n",
    "        first = (self.__real*obj.__real) - (self.__imaginary*obj.__imaginary)\n",
    "        second = (self.__real*obj.__imaginary) + (obj.__real*self.__imaginary)\n",
    "        self.__real = first\n",
    "        self.__imaginary = second\n",
    "        \n",
    "    def output(self):\n",
    "        if self.__real != 0 and self.__imaginary !=0:\n",
    "            print(f'{self.__real} + {self.__imaginary}i')\n",
    "        elif self.__real == 0:\n",
    "            print(f'{self.__real}')\n",
    "        elif self.__imaginary == 0:\n",
    "            print(f'{self.__imaginary}i')\n",
    "        else:\n",
    "            print(0)"
   ]
  },
  {
   "cell_type": "code",
   "execution_count": 28,
   "metadata": {},
   "outputs": [],
   "source": [
    "a = Complex_Number(4,5)\n",
    "b = Complex_Number(6,7)"
   ]
  },
  {
   "cell_type": "code",
   "execution_count": 29,
   "metadata": {},
   "outputs": [
    {
     "name": "stdout",
     "output_type": "stream",
     "text": [
      "-11 + 58i\n"
     ]
    }
   ],
   "source": [
    "a.multiply(b)\n",
    "a.output()"
   ]
  },
  {
   "cell_type": "markdown",
   "metadata": {},
   "source": [
    "### Static method revision"
   ]
  },
  {
   "cell_type": "code",
   "execution_count": 39,
   "metadata": {},
   "outputs": [],
   "source": [
    "from datetime import date\n",
    "class Student:\n",
    "    def __init__(self,name,age):\n",
    "        self.name = name\n",
    "        self.age = age\n",
    "        \n",
    "    @classmethod\n",
    "    def birthYear(cls,name,year):\n",
    "        return cls(name,date.today().year - year)\n",
    "        \n",
    "    def output(self):\n",
    "        print(self.name,self.age)\n",
    "        \n",
    "    @staticmethod\n",
    "    def isTeen(age):\n",
    "        return age>18"
   ]
  },
  {
   "cell_type": "code",
   "execution_count": 40,
   "metadata": {},
   "outputs": [],
   "source": [
    "s = Student.birthYear(\"Sudhanshu\",2000)"
   ]
  },
  {
   "cell_type": "code",
   "execution_count": 41,
   "metadata": {
    "scrolled": true
   },
   "outputs": [
    {
     "name": "stdout",
     "output_type": "stream",
     "text": [
      "Sudhanshu 21\n"
     ]
    }
   ],
   "source": [
    "s.output()"
   ]
  },
  {
   "cell_type": "code",
   "execution_count": 43,
   "metadata": {},
   "outputs": [
    {
     "data": {
      "text/plain": [
       "True"
      ]
     },
     "execution_count": 43,
     "metadata": {},
     "output_type": "execute_result"
    }
   ],
   "source": [
    "s.isTeen(20)"
   ]
  },
  {
   "cell_type": "markdown",
   "metadata": {},
   "source": [
    "# Inheritence"
   ]
  },
  {
   "cell_type": "code",
   "execution_count": 31,
   "metadata": {},
   "outputs": [],
   "source": [
    "class Vehicle:\n",
    "    def __init__(self,color,maxSpeed):\n",
    "        self.color = color\n",
    "        self.__maxSpeed = maxSpeed\n",
    "    \n",
    "class Car(Vehicle):\n",
    "    def __init__(self,color,maxSpeed,wheels):\n",
    "        super().__init__(color,maxSpeed)\n",
    "        self.wheels = wheels\n",
    "    def Output(self):\n",
    "        print(self.color,self._Vehicle__maxSpeed,self.wheels)"
   ]
  },
  {
   "cell_type": "code",
   "execution_count": 32,
   "metadata": {},
   "outputs": [],
   "source": [
    "a = Car(\"red\",120,4)"
   ]
  },
  {
   "cell_type": "code",
   "execution_count": 37,
   "metadata": {},
   "outputs": [
    {
     "name": "stdout",
     "output_type": "stream",
     "text": [
      "red 120 4\n"
     ]
    }
   ],
   "source": [
    "a.Output()"
   ]
  },
  {
   "cell_type": "markdown",
   "metadata": {},
   "source": [
    "## Getter and Setter"
   ]
  },
  {
   "cell_type": "code",
   "execution_count": 38,
   "metadata": {},
   "outputs": [],
   "source": [
    "class Vehicle:\n",
    "    def __init__(self,color,maxSpeed):\n",
    "        self.color = color\n",
    "        self.__maxSpeed = maxSpeed\n",
    "    \n",
    "    def getMaxSpeed(self):\n",
    "        return self.__maxSpeed\n",
    "    def setMaxSpeed(self,maxSpeed):\n",
    "        self.__maxSpeed = maxSpeed\n",
    "\n",
    "class Bike(Vehicle):\n",
    "    def __init__(self,color,maxSpeed,wheels):\n",
    "        super().__init__(color,maxSpeed)\n",
    "        self.wheels = wheels\n",
    "        \n",
    "    def output(self):\n",
    "        print(self.color,self.getMaxSpeed(),self.wheels)"
   ]
  },
  {
   "cell_type": "code",
   "execution_count": 39,
   "metadata": {},
   "outputs": [],
   "source": [
    "a = Bike(\"black\",30,2)"
   ]
  },
  {
   "cell_type": "code",
   "execution_count": 40,
   "metadata": {},
   "outputs": [
    {
     "name": "stdout",
     "output_type": "stream",
     "text": [
      "black 30 2\n"
     ]
    }
   ],
   "source": [
    "a.output()"
   ]
  },
  {
   "cell_type": "markdown",
   "metadata": {},
   "source": [
    "## Printing from parent class"
   ]
  },
  {
   "cell_type": "code",
   "execution_count": 55,
   "metadata": {},
   "outputs": [],
   "source": [
    "class Vehicle:\n",
    "    def __init__(self,color,maxSpeed):\n",
    "        self.color = color\n",
    "        self.__maxSpeed = maxSpeed\n",
    "        \n",
    "    def print_from_parent(self):\n",
    "        print(self.color,self.__maxSpeed,end = \" \")\n",
    "        \n",
    "class Cycle(Vehicle):\n",
    "    def __init__(self,color,maxSpeed,wheel):\n",
    "        super().__init__(color,maxSpeed)\n",
    "        self.wheel = wheel\n",
    "        \n",
    "    def output(self):\n",
    "#       self.print_from_parent()\n",
    "        super().print_from_parent()\n",
    "        print(self.wheel)"
   ]
  },
  {
   "cell_type": "code",
   "execution_count": 56,
   "metadata": {},
   "outputs": [],
   "source": [
    "c = Cycle(\"white\",5,2)"
   ]
  },
  {
   "cell_type": "code",
   "execution_count": 57,
   "metadata": {},
   "outputs": [
    {
     "name": "stdout",
     "output_type": "stream",
     "text": [
      "white 5 2\n"
     ]
    }
   ],
   "source": [
    "c.output()"
   ]
  },
  {
   "cell_type": "markdown",
   "metadata": {},
   "source": [
    "# Polymorphism"
   ]
  },
  {
   "cell_type": "markdown",
   "metadata": {},
   "source": [
    "##### Taking many forms (method overiding)\n",
    "> the class will search for the method into its own class first and if unable then into parent class"
   ]
  },
  {
   "cell_type": "code",
   "execution_count": 6,
   "metadata": {},
   "outputs": [],
   "source": [
    "class Vehicle:\n",
    "    def __init__(self,color):\n",
    "        self.__color = color\n",
    "        \n",
    "    def output(self):\n",
    "        print(self.__color)\n",
    "        \n",
    "class Truck(Vehicle):\n",
    "    def __init__(self,color,wheels):\n",
    "        super().__init__(color)\n",
    "        self.wheels = wheels\n",
    "        \n",
    "    def output(self):\n",
    "        Vehicle.output(self)\n",
    "        print(self.wheels)"
   ]
  },
  {
   "cell_type": "code",
   "execution_count": 7,
   "metadata": {},
   "outputs": [],
   "source": [
    "T = Truck(\"blue\",6)"
   ]
  },
  {
   "cell_type": "code",
   "execution_count": 8,
   "metadata": {},
   "outputs": [
    {
     "name": "stdout",
     "output_type": "stream",
     "text": [
      "blue\n",
      "6\n"
     ]
    }
   ],
   "source": [
    "T.output()"
   ]
  },
  {
   "cell_type": "markdown",
   "metadata": {},
   "source": [
    "# Protected Members"
   ]
  },
  {
   "cell_type": "code",
   "execution_count": 5,
   "metadata": {},
   "outputs": [],
   "source": [
    "class Vehicle:\n",
    "    def __init__(self,color,maxSpeed):\n",
    "        self.color = color\n",
    "        self._maxSpeed = maxSpeed\n",
    "        \n",
    "    def output(self):\n",
    "        print(self.color, self._maxSpeed,end = \" \")\n",
    "        \n",
    "class Cycle(Vehicle):\n",
    "    def __init__(self,color,maxSpeed,wheel):\n",
    "        super().__init__(color,maxSpeed)\n",
    "        self.wheel = wheel\n",
    "    \n",
    "    def print_output(self):\n",
    "#         self.output()\n",
    "        print(self.color,self._maxSpeed,end = \" \")\n",
    "        print(self.wheel)"
   ]
  },
  {
   "cell_type": "code",
   "execution_count": 6,
   "metadata": {},
   "outputs": [],
   "source": [
    "b1 = Cycle(\"red\",10,2)"
   ]
  },
  {
   "cell_type": "code",
   "execution_count": 8,
   "metadata": {},
   "outputs": [
    {
     "data": {
      "text/plain": [
       "10"
      ]
     },
     "execution_count": 8,
     "metadata": {},
     "output_type": "execute_result"
    }
   ],
   "source": [
    "b1._maxSpeed"
   ]
  },
  {
   "cell_type": "code",
   "execution_count": 1,
   "metadata": {},
   "outputs": [],
   "source": [
    "#__str__"
   ]
  },
  {
   "cell_type": "code",
   "execution_count": 7,
   "metadata": {},
   "outputs": [],
   "source": [
    "class Circle:\n",
    "    def __init__(self,radius):\n",
    "        self.radius = radius\n",
    "        \n",
    "    def __str__(self):\n",
    "        return \"This is a circle class\""
   ]
  },
  {
   "cell_type": "code",
   "execution_count": 8,
   "metadata": {},
   "outputs": [],
   "source": [
    "c1 = Circle(14)"
   ]
  },
  {
   "cell_type": "code",
   "execution_count": 9,
   "metadata": {},
   "outputs": [
    {
     "name": "stdout",
     "output_type": "stream",
     "text": [
      "This is a circle class\n"
     ]
    }
   ],
   "source": [
    "print(c1)"
   ]
  },
  {
   "cell_type": "markdown",
   "metadata": {},
   "source": [
    "## def str revision"
   ]
  },
  {
   "cell_type": "code",
   "execution_count": 1,
   "metadata": {},
   "outputs": [],
   "source": [
    "class Circle():\n",
    "    def __init__(self,radius):\n",
    "        self._radius = radius\n",
    "        \n",
    "    def __str__(self):\n",
    "        return \"It is a circle class\""
   ]
  },
  {
   "cell_type": "code",
   "execution_count": 2,
   "metadata": {},
   "outputs": [],
   "source": [
    "c = Circle(10)"
   ]
  },
  {
   "cell_type": "code",
   "execution_count": 3,
   "metadata": {},
   "outputs": [
    {
     "name": "stdout",
     "output_type": "stream",
     "text": [
      "It is a circle class\n"
     ]
    }
   ],
   "source": [
    "print(c)"
   ]
  },
  {
   "cell_type": "code",
   "execution_count": 4,
   "metadata": {},
   "outputs": [
    {
     "data": {
      "text/plain": [
       "10"
      ]
     },
     "execution_count": 4,
     "metadata": {},
     "output_type": "execute_result"
    }
   ],
   "source": [
    "c._radius"
   ]
  },
  {
   "cell_type": "markdown",
   "metadata": {},
   "source": [
    "# Multiple base classes"
   ]
  },
  {
   "cell_type": "code",
   "execution_count": 20,
   "metadata": {},
   "outputs": [],
   "source": [
    "class Father:\n",
    "    def __init__(self,name):\n",
    "        self.name = name\n",
    "    def output(self):\n",
    "        print(self.name)\n",
    "class Mother:\n",
    "    @staticmethod\n",
    "    def output():\n",
    "        print(\"Mother called\")\n",
    "class Child(Father,Mother):\n",
    "    def __init__(self):\n",
    "        self.name = 'Rohan'\n",
    "    def callDad(self):\n",
    "        super().__init__('Ajay')"
   ]
  },
  {
   "cell_type": "code",
   "execution_count": 21,
   "metadata": {},
   "outputs": [],
   "source": [
    "c = Child()"
   ]
  },
  {
   "cell_type": "code",
   "execution_count": 22,
   "metadata": {},
   "outputs": [
    {
     "name": "stdout",
     "output_type": "stream",
     "text": [
      "Rohan\n"
     ]
    }
   ],
   "source": [
    "c.output()"
   ]
  },
  {
   "cell_type": "markdown",
   "metadata": {},
   "source": [
    "# MRO - Method Resolution Order"
   ]
  },
  {
   "cell_type": "code",
   "execution_count": 1,
   "metadata": {},
   "outputs": [],
   "source": [
    "class Father:\n",
    "    def __init__(self):\n",
    "        self.name = \"Named by father\"\n",
    "\n",
    "class Mother:\n",
    "    def __init__(self):\n",
    "        self.name = \"Named by mother\"\n",
    "        \n",
    "class Child(Father,Mother):\n",
    "    def __init__(self):\n",
    "        super().__init__()\n",
    "        \n",
    "    def output(self):\n",
    "        print(self.name)"
   ]
  },
  {
   "cell_type": "code",
   "execution_count": 2,
   "metadata": {},
   "outputs": [],
   "source": [
    "c = Child()"
   ]
  },
  {
   "cell_type": "code",
   "execution_count": 3,
   "metadata": {},
   "outputs": [
    {
     "name": "stdout",
     "output_type": "stream",
     "text": [
      "Named by father\n"
     ]
    }
   ],
   "source": [
    "c.output()"
   ]
  },
  {
   "cell_type": "code",
   "execution_count": 7,
   "metadata": {},
   "outputs": [
    {
     "data": {
      "text/plain": [
       "[__main__.Child, __main__.Father, __main__.Mother, object]"
      ]
     },
     "execution_count": 7,
     "metadata": {},
     "output_type": "execute_result"
    }
   ],
   "source": [
    "Child.mro()"
   ]
  },
  {
   "cell_type": "markdown",
   "metadata": {},
   "source": [
    "# Operator Overloading"
   ]
  },
  {
   "cell_type": "code",
   "execution_count": 11,
   "metadata": {},
   "outputs": [],
   "source": [
    "import math\n",
    "class Point:\n",
    "    def __init__(self,x,y):\n",
    "        self.x =x \n",
    "        self.y =y\n",
    "    def __str__(self):\n",
    "        return f'The x point is {self.x} and y is {self.y}'\n",
    "    def __add__(self,point):\n",
    "        return Point(self.x + point.x, self.y + point.y)\n",
    "    \n",
    "    def __lt__(self,point):\n",
    "        return math.sqrt(self.x**2 + self)"
   ]
  },
  {
   "cell_type": "code",
   "execution_count": 12,
   "metadata": {},
   "outputs": [],
   "source": [
    "p1 = Point(10,20)\n",
    "p2 = Point(5,10)\n",
    "p3 = p1+ p2"
   ]
  },
  {
   "cell_type": "code",
   "execution_count": 13,
   "metadata": {},
   "outputs": [
    {
     "name": "stdout",
     "output_type": "stream",
     "text": [
      "The x point is 15 and y is 30\n"
     ]
    }
   ],
   "source": [
    "print(p3)"
   ]
  },
  {
   "cell_type": "markdown",
   "metadata": {},
   "source": [
    "### Revision Operator overloading"
   ]
  },
  {
   "cell_type": "code",
   "execution_count": 1,
   "metadata": {},
   "outputs": [],
   "source": [
    "class Point:\n",
    "    def __init__(self,x,y):\n",
    "        self.x = x\n",
    "        self.y = y\n",
    "        \n",
    "    def __add__(self,obj):\n",
    "        return Point(self.x + obj.x, self.y + obj.y)\n",
    "    \n",
    "    def __str__(self):\n",
    "        return f'x point is {self.x} and y point is {self.y}'"
   ]
  },
  {
   "cell_type": "code",
   "execution_count": 2,
   "metadata": {},
   "outputs": [],
   "source": [
    "p = Point(10,20)\n",
    "p1 = Point(20,30)"
   ]
  },
  {
   "cell_type": "code",
   "execution_count": 3,
   "metadata": {},
   "outputs": [],
   "source": [
    "p2 = p +p1"
   ]
  },
  {
   "cell_type": "code",
   "execution_count": 4,
   "metadata": {},
   "outputs": [
    {
     "data": {
      "text/plain": [
       "<__main__.Point at 0x1d7c318c490>"
      ]
     },
     "execution_count": 4,
     "metadata": {},
     "output_type": "execute_result"
    }
   ],
   "source": [
    "p2"
   ]
  },
  {
   "cell_type": "code",
   "execution_count": 8,
   "metadata": {},
   "outputs": [
    {
     "name": "stdout",
     "output_type": "stream",
     "text": [
      "x point is 30 and y point is 50\n"
     ]
    }
   ],
   "source": [
    "print(p2)"
   ]
  },
  {
   "cell_type": "markdown",
   "metadata": {},
   "source": [
    "# Abstract Class"
   ]
  },
  {
   "cell_type": "code",
   "execution_count": 2,
   "metadata": {},
   "outputs": [
    {
     "name": "stdout",
     "output_type": "stream",
     "text": [
      "Car created\n",
      "Automobile start\n"
     ]
    }
   ],
   "source": [
    "from abc import ABC,abstractmethod\n",
    "\n",
    "class Automobile(ABC):\n",
    "    def __init__(self):\n",
    "        print(\"Automobile created\")\n",
    "    @abstractmethod   \n",
    "    def start(self):\n",
    "        print(\"Automobile start\")\n",
    "    \n",
    "class Car(Automobile):\n",
    "    def __init__(self):\n",
    "        print(\"Car created\")\n",
    "    def start(self):\n",
    "        super().start()\n",
    "        \n",
    "c = Car()\n",
    "c.start()"
   ]
  },
  {
   "cell_type": "markdown",
   "metadata": {},
   "source": [
    "## More in abstract class"
   ]
  },
  {
   "cell_type": "code",
   "execution_count": 13,
   "metadata": {},
   "outputs": [],
   "source": [
    "from abc import ABC,abstractmethod\n",
    "\n",
    "class Automobile(ABC):\n",
    "    def __init__(self,color,wheels):\n",
    "        self.color = color\n",
    "        self.wheels = wheels\n",
    "        \n",
    "    @abstractmethod\n",
    "    def start(self):\n",
    "        print(\"Automobile start\")\n",
    "        \n",
    "    @abstractmethod\n",
    "    def stop(self):\n",
    "        print(\"Automobile stop\")\n",
    "        \n",
    "class Car(Automobile):\n",
    "    def __init__(self,color,wheel,speed):\n",
    "        Automobile.__init__(self,color,wheel)\n",
    "        self.speed = speed\n",
    "        \n",
    "    def start(self):\n",
    "        super().start()\n",
    "    def stop(self):\n",
    "        print(\"car stops\")"
   ]
  },
  {
   "cell_type": "code",
   "execution_count": 14,
   "metadata": {},
   "outputs": [],
   "source": [
    "c = Car(\"red\",4,40)"
   ]
  },
  {
   "cell_type": "code",
   "execution_count": 15,
   "metadata": {},
   "outputs": [
    {
     "name": "stdout",
     "output_type": "stream",
     "text": [
      "Automobile start\n"
     ]
    }
   ],
   "source": [
    "c.start()"
   ]
  },
  {
   "cell_type": "code",
   "execution_count": 16,
   "metadata": {},
   "outputs": [
    {
     "name": "stdout",
     "output_type": "stream",
     "text": [
      "car stops\n"
     ]
    }
   ],
   "source": [
    "c.stop()"
   ]
  },
  {
   "cell_type": "markdown",
   "metadata": {},
   "source": [
    "# Error Handling"
   ]
  },
  {
   "cell_type": "code",
   "execution_count": 8,
   "metadata": {
    "scrolled": true
   },
   "outputs": [
    {
     "name": "stdout",
     "output_type": "stream",
     "text": [
      "Enter the numberator: 1\n",
      "Enter the denominator: 0\n",
      "value should be integer and denominator should not be zero\n",
      "Enter the numberator: 1\n",
      "Enter the denominator: abc\n",
      "value should be integer and denominator should not be zero\n",
      "Enter the numberator: 1\n",
      "Enter the denominator: -2\n",
      "-0.5\n"
     ]
    }
   ],
   "source": [
    "while True:\n",
    "    try:\n",
    "        num = int(input('Enter the numberator: '))\n",
    "        deno = int(input('Enter the denominator: '))\n",
    "        output = num/deno\n",
    "        print(output)\n",
    "        break\n",
    "#     except ValueError:\n",
    "#         print('Numerator and denominator must be integer')\n",
    "#     except ZeroDivisionError:\n",
    "#         print(\"Denominator cant be zero\")\n",
    "#     except:\n",
    "#         print(\"Kindly type correct values\")\n",
    "    except (ValueError,ZeroDivisionError):\n",
    "        print(\"value should be integer and denominator should not be zero\")"
   ]
  },
  {
   "cell_type": "code",
   "execution_count": null,
   "metadata": {},
   "outputs": [
    {
     "name": "stdout",
     "output_type": "stream",
     "text": [
      "Enter the numerator: 5\n",
      "Enter the denominator: 0\n",
      "deno cant be zero\n"
     ]
    }
   ],
   "source": [
    "while True:\n",
    "    try:\n",
    "        num = int(input('Enter the numerator: '))\n",
    "        deno = int(input('Enter the denominator: '))\n",
    "        if deno ==0:\n",
    "            raise ZeroDivisionError\n",
    "        output = num/deno\n",
    "        print(output)\n",
    "    except ValueError:\n",
    "        print(\"ValueError\")\n",
    "    except ZeroDivisionError:\n",
    "        print(\"deno cant be zero\")"
   ]
  },
  {
   "cell_type": "markdown",
   "metadata": {},
   "source": [
    "# error handling and inheritance"
   ]
  },
  {
   "cell_type": "code",
   "execution_count": 7,
   "metadata": {},
   "outputs": [
    {
     "name": "stdout",
     "output_type": "stream",
     "text": [
      "5\n",
      "0\n",
      "Zero division not allowed\n",
      "5\n",
      "5\n",
      "1.0\n"
     ]
    }
   ],
   "source": [
    "class DividingByZero(ZeroDivisionError):\n",
    "    pass\n",
    "\n",
    "while True:\n",
    "    try:\n",
    "        a= int(input())\n",
    "        b= int(input())\n",
    "        if b == 0:\n",
    "            raise DividingByZero\n",
    "        print(a/b)\n",
    "        break\n",
    "    except ZeroDivisionError:\n",
    "        print(\"Zero division not allowed\")\n",
    "    except DividingByZero:\n",
    "        print(\"Dividing\")"
   ]
  },
  {
   "cell_type": "markdown",
   "metadata": {},
   "source": [
    "# else and finally "
   ]
  },
  {
   "cell_type": "code",
   "execution_count": 6,
   "metadata": {},
   "outputs": [
    {
     "name": "stdout",
     "output_type": "stream",
     "text": [
      "5\n",
      "0\n",
      "Denominator cant be zero\n",
      "\"finally\" executed\n",
      "5\n",
      "5\n",
      "1.0\n",
      "\"finally\" executed\n"
     ]
    }
   ],
   "source": [
    "while True:\n",
    "    try:\n",
    "        a= int(input())\n",
    "        b= int(input())\n",
    "        if b == 0:\n",
    "            raise ZeroDivisionError()\n",
    "    except ZeroDivisionError:\n",
    "        print(\"Denominator cant be zero\")\n",
    "    else:\n",
    "        print(a/b)\n",
    "        break\n",
    "    finally:\n",
    "        print(\"\\\"finally\\\" executed\")"
   ]
  },
  {
   "cell_type": "code",
   "execution_count": null,
   "metadata": {},
   "outputs": [],
   "source": []
  }
 ],
 "metadata": {
  "kernelspec": {
   "display_name": "Python 3",
   "language": "python",
   "name": "python3"
  },
  "language_info": {
   "codemirror_mode": {
    "name": "ipython",
    "version": 3
   },
   "file_extension": ".py",
   "mimetype": "text/x-python",
   "name": "python",
   "nbconvert_exporter": "python",
   "pygments_lexer": "ipython3",
   "version": "3.8.5"
  }
 },
 "nbformat": 4,
 "nbformat_minor": 4
}
