{
 "cells": [
  {
   "cell_type": "code",
   "execution_count": 14,
   "metadata": {},
   "outputs": [
    {
     "name": "stdin",
     "output_type": "stream",
     "text": [
      " 1\n",
      " 2\n",
      " 5\n"
     ]
    },
    {
     "name": "stdout",
     "output_type": "stream",
     "text": [
      "15.5\n"
     ]
    }
   ],
   "source": [
    "input1,input2,input3=int(input()),int(input()),int(input())\n",
    "r=input2/input1\n",
    "a=input1/r\n",
    "s=a*(1-r**input3)/(1-r)\n",
    "print(round(s,3))"
   ]
  },
  {
   "cell_type": "code",
   "execution_count": 3,
   "metadata": {},
   "outputs": [
    {
     "data": {
      "text/plain": [
       "4"
      ]
     },
     "execution_count": 3,
     "metadata": {},
     "output_type": "execute_result"
    }
   ],
   "source": [
    "n3"
   ]
  },
  {
   "cell_type": "code",
   "execution_count": 4,
   "metadata": {},
   "outputs": [
    {
     "data": {
      "text/plain": [
       "2.0"
      ]
     },
     "execution_count": 4,
     "metadata": {},
     "output_type": "execute_result"
    }
   ],
   "source": [
    "r"
   ]
  },
  {
   "cell_type": "code",
   "execution_count": 5,
   "metadata": {},
   "outputs": [
    {
     "data": {
      "text/plain": [
       "8.0"
      ]
     },
     "execution_count": 5,
     "metadata": {},
     "output_type": "execute_result"
    }
   ],
   "source": [
    "r**(n3-1)"
   ]
  },
  {
   "cell_type": "code",
   "execution_count": 6,
   "metadata": {},
   "outputs": [
    {
     "data": {
      "text/plain": [
       "0.5"
      ]
     },
     "execution_count": 6,
     "metadata": {},
     "output_type": "execute_result"
    }
   ],
   "source": [
    "a"
   ]
  },
  {
   "cell_type": "code",
   "execution_count": 13,
   "metadata": {},
   "outputs": [
    {
     "data": {
      "text/plain": [
       "3.46"
      ]
     },
     "execution_count": 13,
     "metadata": {},
     "output_type": "execute_result"
    }
   ],
   "source": [
    "round(3.45678,2)"
   ]
  },
  {
   "cell_type": "code",
   "execution_count": 148,
   "metadata": {},
   "outputs": [
    {
     "name": "stdin",
     "output_type": "stream",
     "text": [
      " 10\n"
     ]
    },
    {
     "data": {
      "text/plain": [
       "[[1, 2, 3, 4, 5, 6, 7, 8, 9, 10],\n",
       " [36, 37, 38, 39, 40, 41, 42, 43, 44, 11],\n",
       " [35, 64, 65, 66, 67, 68, 69, 70, 45, 12],\n",
       " [34, 63, 84, 85, 86, 87, 88, 71, 46, 13],\n",
       " [33, 62, 83, 96, 97, 98, 89, 72, 47, 14],\n",
       " [32, 61, 82, 95, 100, 99, 90, 73, 48, 15],\n",
       " [31, 60, 81, 94, 93, 92, 91, 74, 49, 16],\n",
       " [30, 59, 80, 79, 78, 77, 76, 75, 50, 17],\n",
       " [29, 58, 57, 56, 55, 54, 53, 52, 51, 18],\n",
       " [28, 27, 26, 25, 24, 23, 22, 21, 20, 19]]"
      ]
     },
     "execution_count": 148,
     "metadata": {},
     "output_type": "execute_result"
    }
   ],
   "source": [
    "n=int(input())\n",
    "l=[[i for i in range(1,n+1)] for i in range(n)]\n",
    "k=n\n",
    "for i in range(n//2):\n",
    "    if n>1:\n",
    "        # diagonal 4*(k-1)\n",
    "        if i==0:\n",
    "            l[i+1][i]=4*(k-1)\n",
    "        else:\n",
    "            l[i+1][i]=l[i][i-1]+4*(k-1)\n",
    "            # top left-right\n",
    "            for j in range(i,n-i):\n",
    "                l[i][j]=l[i][j-1]+1\n",
    "            # left top-bottom\n",
    "            for j in range(i+1,n-i+1):\n",
    "                l[j][i-1]=l[j-1][i-1]-1\n",
    "            #bottom left-right\n",
    "            for j in range(i,n-i):\n",
    "                l[n-i][j]=l[n-i][j-1]-1\n",
    "            # right top-bottom\n",
    "            for j in range(i,n-i+1):\n",
    "                l[j][n-i]=l[j-1][n-i]+1\n",
    "            \n",
    "        k-=2\n",
    "if n>1:\n",
    "    if n%2:\n",
    "        l[n//2][n//2]=l[n//2][n//2-1]+1\n",
    "        l[n//2][n//2+1]=l[n//2-1][n//2+1]+1\n",
    "        l[n//2+1][n//2-1]=l[n//2] [n//2-1]-1\n",
    "        l[n//2+1][n//2]=l[n//2+1][n//2-1]-1\n",
    "        l[n//2+1][n//2+1]=l[n//2+1][n//2]-1\n",
    "    else:\n",
    "        l[n//2][n//2]=l[n//2][n//2-1]-1\n",
    "l"
   ]
  },
  {
   "cell_type": "code",
   "execution_count": null,
   "metadata": {},
   "outputs": [],
   "source": [
    "# "
   ]
  }
 ],
 "metadata": {
  "kernelspec": {
   "display_name": "Python 3",
   "language": "python",
   "name": "python3"
  },
  "language_info": {
   "codemirror_mode": {
    "name": "ipython",
    "version": 3
   },
   "file_extension": ".py",
   "mimetype": "text/x-python",
   "name": "python",
   "nbconvert_exporter": "python",
   "pygments_lexer": "ipython3",
   "version": "3.8.5"
  }
 },
 "nbformat": 4,
 "nbformat_minor": 4
}
